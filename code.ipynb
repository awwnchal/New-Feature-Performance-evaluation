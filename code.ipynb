{
  "cells": [
    {
      "cell_type": "markdown",
      "metadata": {
        "id": "view-in-github",
        "colab_type": "text"
      },
      "source": [
        "<a href=\"https://colab.research.google.com/github/awwnchal/New-Feature-Performance-evaluation/blob/main/Introducing_an_online_community_.ipynb\" target=\"_parent\"><img src=\"https://colab.research.google.com/assets/colab-badge.svg\" alt=\"Open In Colab\"/></a>"
      ]
    },
    {
      "cell_type": "code",
      "execution_count": null,
      "metadata": {
        "colab": {
          "base_uri": "https://localhost:8080/"
        },
        "id": "z6ztBZ-VgGUj",
        "outputId": "09fc7029-9705-422d-e5a2-555e0de3cef4"
      },
      "outputs": [
        {
          "output_type": "stream",
          "name": "stdout",
          "text": [
            "Mounted at /content/drive\n"
          ]
        }
      ],
      "source": [
        "import pandas as pd\n",
        "import numpy as np\n",
        "import seaborn as sns\n",
        "from google.colab import drive\n",
        "drive.mount('/content/drive')"
      ]
    },
    {
      "cell_type": "markdown",
      "metadata": {
        "id": "iQbenluKsQNb"
      },
      "source": [
        "#  1"
      ]
    },
    {
      "cell_type": "code",
      "execution_count": null,
      "metadata": {
        "id": "ewcxx4CPgN88"
      },
      "outputs": [],
      "source": [
        "did=pd.read_excel('/content/drive/MyDrive/Data.xlsx',\n",
        "                  'Data 1')"
      ]
    },
    {
      "cell_type": "code",
      "execution_count": null,
      "metadata": {
        "colab": {
          "base_uri": "https://localhost:8080/",
          "height": 206
        },
        "id": "yL36lSGCghLI",
        "outputId": "a6cb537f-c041-40a1-c37d-4c3b4fd75730"
      },
      "outputs": [
        {
          "output_type": "execute_result",
          "data": {
            "text/plain": [
              "   Customer ID  Month Before  Month After  Joined?  difference\n",
              "0      1000201            58          132        1          74\n",
              "1      1000202           135          154        0          19\n",
              "2      1000203            35           68        0          33\n",
              "3      1000204            95          170        1          75\n",
              "4      1000205            91          149        1          58"
            ],
            "text/html": [
              "\n",
              "  <div id=\"df-1ec4aa16-542b-4baa-a516-38f961071a91\">\n",
              "    <div class=\"colab-df-container\">\n",
              "      <div>\n",
              "<style scoped>\n",
              "    .dataframe tbody tr th:only-of-type {\n",
              "        vertical-align: middle;\n",
              "    }\n",
              "\n",
              "    .dataframe tbody tr th {\n",
              "        vertical-align: top;\n",
              "    }\n",
              "\n",
              "    .dataframe thead th {\n",
              "        text-align: right;\n",
              "    }\n",
              "</style>\n",
              "<table border=\"1\" class=\"dataframe\">\n",
              "  <thead>\n",
              "    <tr style=\"text-align: right;\">\n",
              "      <th></th>\n",
              "      <th>Customer ID</th>\n",
              "      <th>Month Before</th>\n",
              "      <th>Month After</th>\n",
              "      <th>Joined?</th>\n",
              "      <th>difference</th>\n",
              "    </tr>\n",
              "  </thead>\n",
              "  <tbody>\n",
              "    <tr>\n",
              "      <th>0</th>\n",
              "      <td>1000201</td>\n",
              "      <td>58</td>\n",
              "      <td>132</td>\n",
              "      <td>1</td>\n",
              "      <td>74</td>\n",
              "    </tr>\n",
              "    <tr>\n",
              "      <th>1</th>\n",
              "      <td>1000202</td>\n",
              "      <td>135</td>\n",
              "      <td>154</td>\n",
              "      <td>0</td>\n",
              "      <td>19</td>\n",
              "    </tr>\n",
              "    <tr>\n",
              "      <th>2</th>\n",
              "      <td>1000203</td>\n",
              "      <td>35</td>\n",
              "      <td>68</td>\n",
              "      <td>0</td>\n",
              "      <td>33</td>\n",
              "    </tr>\n",
              "    <tr>\n",
              "      <th>3</th>\n",
              "      <td>1000204</td>\n",
              "      <td>95</td>\n",
              "      <td>170</td>\n",
              "      <td>1</td>\n",
              "      <td>75</td>\n",
              "    </tr>\n",
              "    <tr>\n",
              "      <th>4</th>\n",
              "      <td>1000205</td>\n",
              "      <td>91</td>\n",
              "      <td>149</td>\n",
              "      <td>1</td>\n",
              "      <td>58</td>\n",
              "    </tr>\n",
              "  </tbody>\n",
              "</table>\n",
              "</div>\n",
              "      <button class=\"colab-df-convert\" onclick=\"convertToInteractive('df-1ec4aa16-542b-4baa-a516-38f961071a91')\"\n",
              "              title=\"Convert this dataframe to an interactive table.\"\n",
              "              style=\"display:none;\">\n",
              "        \n",
              "  <svg xmlns=\"http://www.w3.org/2000/svg\" height=\"24px\"viewBox=\"0 0 24 24\"\n",
              "       width=\"24px\">\n",
              "    <path d=\"M0 0h24v24H0V0z\" fill=\"none\"/>\n",
              "    <path d=\"M18.56 5.44l.94 2.06.94-2.06 2.06-.94-2.06-.94-.94-2.06-.94 2.06-2.06.94zm-11 1L8.5 8.5l.94-2.06 2.06-.94-2.06-.94L8.5 2.5l-.94 2.06-2.06.94zm10 10l.94 2.06.94-2.06 2.06-.94-2.06-.94-.94-2.06-.94 2.06-2.06.94z\"/><path d=\"M17.41 7.96l-1.37-1.37c-.4-.4-.92-.59-1.43-.59-.52 0-1.04.2-1.43.59L10.3 9.45l-7.72 7.72c-.78.78-.78 2.05 0 2.83L4 21.41c.39.39.9.59 1.41.59.51 0 1.02-.2 1.41-.59l7.78-7.78 2.81-2.81c.8-.78.8-2.07 0-2.86zM5.41 20L4 18.59l7.72-7.72 1.47 1.35L5.41 20z\"/>\n",
              "  </svg>\n",
              "      </button>\n",
              "      \n",
              "  <style>\n",
              "    .colab-df-container {\n",
              "      display:flex;\n",
              "      flex-wrap:wrap;\n",
              "      gap: 12px;\n",
              "    }\n",
              "\n",
              "    .colab-df-convert {\n",
              "      background-color: #E8F0FE;\n",
              "      border: none;\n",
              "      border-radius: 50%;\n",
              "      cursor: pointer;\n",
              "      display: none;\n",
              "      fill: #1967D2;\n",
              "      height: 32px;\n",
              "      padding: 0 0 0 0;\n",
              "      width: 32px;\n",
              "    }\n",
              "\n",
              "    .colab-df-convert:hover {\n",
              "      background-color: #E2EBFA;\n",
              "      box-shadow: 0px 1px 2px rgba(60, 64, 67, 0.3), 0px 1px 3px 1px rgba(60, 64, 67, 0.15);\n",
              "      fill: #174EA6;\n",
              "    }\n",
              "\n",
              "    [theme=dark] .colab-df-convert {\n",
              "      background-color: #3B4455;\n",
              "      fill: #D2E3FC;\n",
              "    }\n",
              "\n",
              "    [theme=dark] .colab-df-convert:hover {\n",
              "      background-color: #434B5C;\n",
              "      box-shadow: 0px 1px 3px 1px rgba(0, 0, 0, 0.15);\n",
              "      filter: drop-shadow(0px 1px 2px rgba(0, 0, 0, 0.3));\n",
              "      fill: #FFFFFF;\n",
              "    }\n",
              "  </style>\n",
              "\n",
              "      <script>\n",
              "        const buttonEl =\n",
              "          document.querySelector('#df-1ec4aa16-542b-4baa-a516-38f961071a91 button.colab-df-convert');\n",
              "        buttonEl.style.display =\n",
              "          google.colab.kernel.accessAllowed ? 'block' : 'none';\n",
              "\n",
              "        async function convertToInteractive(key) {\n",
              "          const element = document.querySelector('#df-1ec4aa16-542b-4baa-a516-38f961071a91');\n",
              "          const dataTable =\n",
              "            await google.colab.kernel.invokeFunction('convertToInteractive',\n",
              "                                                     [key], {});\n",
              "          if (!dataTable) return;\n",
              "\n",
              "          const docLinkHtml = 'Like what you see? Visit the ' +\n",
              "            '<a target=\"_blank\" href=https://colab.research.google.com/notebooks/data_table.ipynb>data table notebook</a>'\n",
              "            + ' to learn more about interactive tables.';\n",
              "          element.innerHTML = '';\n",
              "          dataTable['output_type'] = 'display_data';\n",
              "          await google.colab.output.renderOutput(dataTable, element);\n",
              "          const docLink = document.createElement('div');\n",
              "          docLink.innerHTML = docLinkHtml;\n",
              "          element.appendChild(docLink);\n",
              "        }\n",
              "      </script>\n",
              "    </div>\n",
              "  </div>\n",
              "  "
            ]
          },
          "metadata": {},
          "execution_count": 3
        }
      ],
      "source": [
        "did.head()"
      ]
    },
    {
      "cell_type": "code",
      "execution_count": null,
      "metadata": {
        "id": "twRvF-9jg1VV"
      },
      "outputs": [],
      "source": [
        "did=did[[\"Month Before\",\"Month After\", \"Joined?\"]]"
      ]
    },
    {
      "cell_type": "code",
      "execution_count": null,
      "metadata": {
        "colab": {
          "base_uri": "https://localhost:8080/",
          "height": 143
        },
        "id": "6mgQy5eAi9Rk",
        "outputId": "57a459cb-4e79-4735-cee2-e74f6340932b"
      },
      "outputs": [
        {
          "output_type": "execute_result",
          "data": {
            "text/plain": [
              "         Month Before  Month After\n",
              "Joined?                           \n",
              "0           70.376068   101.247863\n",
              "1           88.134146   148.024390"
            ],
            "text/html": [
              "\n",
              "  <div id=\"df-50c32045-fa28-433f-bba7-6d2df3215f7c\">\n",
              "    <div class=\"colab-df-container\">\n",
              "      <div>\n",
              "<style scoped>\n",
              "    .dataframe tbody tr th:only-of-type {\n",
              "        vertical-align: middle;\n",
              "    }\n",
              "\n",
              "    .dataframe tbody tr th {\n",
              "        vertical-align: top;\n",
              "    }\n",
              "\n",
              "    .dataframe thead th {\n",
              "        text-align: right;\n",
              "    }\n",
              "</style>\n",
              "<table border=\"1\" class=\"dataframe\">\n",
              "  <thead>\n",
              "    <tr style=\"text-align: right;\">\n",
              "      <th></th>\n",
              "      <th>Month Before</th>\n",
              "      <th>Month After</th>\n",
              "    </tr>\n",
              "    <tr>\n",
              "      <th>Joined?</th>\n",
              "      <th></th>\n",
              "      <th></th>\n",
              "    </tr>\n",
              "  </thead>\n",
              "  <tbody>\n",
              "    <tr>\n",
              "      <th>0</th>\n",
              "      <td>70.376068</td>\n",
              "      <td>101.247863</td>\n",
              "    </tr>\n",
              "    <tr>\n",
              "      <th>1</th>\n",
              "      <td>88.134146</td>\n",
              "      <td>148.024390</td>\n",
              "    </tr>\n",
              "  </tbody>\n",
              "</table>\n",
              "</div>\n",
              "      <button class=\"colab-df-convert\" onclick=\"convertToInteractive('df-50c32045-fa28-433f-bba7-6d2df3215f7c')\"\n",
              "              title=\"Convert this dataframe to an interactive table.\"\n",
              "              style=\"display:none;\">\n",
              "        \n",
              "  <svg xmlns=\"http://www.w3.org/2000/svg\" height=\"24px\"viewBox=\"0 0 24 24\"\n",
              "       width=\"24px\">\n",
              "    <path d=\"M0 0h24v24H0V0z\" fill=\"none\"/>\n",
              "    <path d=\"M18.56 5.44l.94 2.06.94-2.06 2.06-.94-2.06-.94-.94-2.06-.94 2.06-2.06.94zm-11 1L8.5 8.5l.94-2.06 2.06-.94-2.06-.94L8.5 2.5l-.94 2.06-2.06.94zm10 10l.94 2.06.94-2.06 2.06-.94-2.06-.94-.94-2.06-.94 2.06-2.06.94z\"/><path d=\"M17.41 7.96l-1.37-1.37c-.4-.4-.92-.59-1.43-.59-.52 0-1.04.2-1.43.59L10.3 9.45l-7.72 7.72c-.78.78-.78 2.05 0 2.83L4 21.41c.39.39.9.59 1.41.59.51 0 1.02-.2 1.41-.59l7.78-7.78 2.81-2.81c.8-.78.8-2.07 0-2.86zM5.41 20L4 18.59l7.72-7.72 1.47 1.35L5.41 20z\"/>\n",
              "  </svg>\n",
              "      </button>\n",
              "      \n",
              "  <style>\n",
              "    .colab-df-container {\n",
              "      display:flex;\n",
              "      flex-wrap:wrap;\n",
              "      gap: 12px;\n",
              "    }\n",
              "\n",
              "    .colab-df-convert {\n",
              "      background-color: #E8F0FE;\n",
              "      border: none;\n",
              "      border-radius: 50%;\n",
              "      cursor: pointer;\n",
              "      display: none;\n",
              "      fill: #1967D2;\n",
              "      height: 32px;\n",
              "      padding: 0 0 0 0;\n",
              "      width: 32px;\n",
              "    }\n",
              "\n",
              "    .colab-df-convert:hover {\n",
              "      background-color: #E2EBFA;\n",
              "      box-shadow: 0px 1px 2px rgba(60, 64, 67, 0.3), 0px 1px 3px 1px rgba(60, 64, 67, 0.15);\n",
              "      fill: #174EA6;\n",
              "    }\n",
              "\n",
              "    [theme=dark] .colab-df-convert {\n",
              "      background-color: #3B4455;\n",
              "      fill: #D2E3FC;\n",
              "    }\n",
              "\n",
              "    [theme=dark] .colab-df-convert:hover {\n",
              "      background-color: #434B5C;\n",
              "      box-shadow: 0px 1px 3px 1px rgba(0, 0, 0, 0.15);\n",
              "      filter: drop-shadow(0px 1px 2px rgba(0, 0, 0, 0.3));\n",
              "      fill: #FFFFFF;\n",
              "    }\n",
              "  </style>\n",
              "\n",
              "      <script>\n",
              "        const buttonEl =\n",
              "          document.querySelector('#df-50c32045-fa28-433f-bba7-6d2df3215f7c button.colab-df-convert');\n",
              "        buttonEl.style.display =\n",
              "          google.colab.kernel.accessAllowed ? 'block' : 'none';\n",
              "\n",
              "        async function convertToInteractive(key) {\n",
              "          const element = document.querySelector('#df-50c32045-fa28-433f-bba7-6d2df3215f7c');\n",
              "          const dataTable =\n",
              "            await google.colab.kernel.invokeFunction('convertToInteractive',\n",
              "                                                     [key], {});\n",
              "          if (!dataTable) return;\n",
              "\n",
              "          const docLinkHtml = 'Like what you see? Visit the ' +\n",
              "            '<a target=\"_blank\" href=https://colab.research.google.com/notebooks/data_table.ipynb>data table notebook</a>'\n",
              "            + ' to learn more about interactive tables.';\n",
              "          element.innerHTML = '';\n",
              "          dataTable['output_type'] = 'display_data';\n",
              "          await google.colab.output.renderOutput(dataTable, element);\n",
              "          const docLink = document.createElement('div');\n",
              "          docLink.innerHTML = docLinkHtml;\n",
              "          element.appendChild(docLink);\n",
              "        }\n",
              "      </script>\n",
              "    </div>\n",
              "  </div>\n",
              "  "
            ]
          },
          "metadata": {},
          "execution_count": 5
        }
      ],
      "source": [
        "did.groupby(\"Joined?\").mean()"
      ]
    },
    {
      "cell_type": "markdown",
      "metadata": {
        "id": "rka8eVNLsZZc"
      },
      "source": [
        "## Manual Way"
      ]
    },
    {
      "cell_type": "code",
      "execution_count": null,
      "metadata": {
        "colab": {
          "base_uri": "https://localhost:8080/"
        },
        "id": "IrLw0gqzpR3O",
        "outputId": "2c9cde71-657b-4c7b-ed2f-86b640a5e536"
      },
      "outputs": [
        {
          "output_type": "execute_result",
          "data": {
            "text/plain": [
              "29.01844903064415"
            ]
          },
          "metadata": {},
          "execution_count": 6
        }
      ],
      "source": [
        "mean_rev_not_before=did.groupby('Joined?').mean().iloc[0, 0]\n",
        "mean_rev_not_after=did.groupby('Joined?').mean().iloc[0, 1]\n",
        "mean_rev_yes_before=did.groupby('Joined?').mean().iloc[1, 0]\n",
        "mean_rev_yes_after=did.groupby('Joined?').mean().iloc[1, 1]\n",
        "\n",
        "not_diff=mean_rev_not_after-mean_rev_not_before\n",
        "yes_diff=mean_rev_yes_after-mean_rev_yes_before\n",
        "\n",
        "yes_diff-not_diff"
      ]
    },
    {
      "cell_type": "markdown",
      "metadata": {
        "id": "sHX3Fc95scY3"
      },
      "source": [
        "## Regression Way"
      ]
    },
    {
      "cell_type": "code",
      "execution_count": null,
      "metadata": {
        "id": "j8wSdveYjFcM"
      },
      "outputs": [],
      "source": [
        "df_before=did[[\"Month Before\",\"Joined?\"]]\n",
        "df_before['t']=0\n",
        "df_before.columns=[[\"total_rev\",\"g\",\"t\"]]\n",
        "\n",
        "df_after=did[[\"Month After\", \"Joined?\"]]\n",
        "df_after['t']=1\n",
        "df_after.columns=[[\"total_rev\", \"g\", \"t\"]]\n",
        "\n",
        "df_did=pd.concat([df_before, df_after])"
      ]
    },
    {
      "cell_type": "code",
      "execution_count": null,
      "metadata": {
        "colab": {
          "base_uri": "https://localhost:8080/"
        },
        "id": "rlOT7gMdnEet",
        "outputId": "1e76f0de-e37c-48e1-9810-419a08f364dc"
      },
      "outputs": [
        {
          "output_type": "execute_result",
          "data": {
            "text/plain": [
              "total_rev    0\n",
              "g            0\n",
              "t            0\n",
              "dtype: int64"
            ]
          },
          "metadata": {},
          "execution_count": 8
        }
      ],
      "source": [
        "df_did.isna().sum()"
      ]
    },
    {
      "cell_type": "code",
      "execution_count": null,
      "metadata": {
        "id": "TzaQmPFwl-Sq"
      },
      "outputs": [],
      "source": [
        "df_did['gt']=df_did['t'].values*df_did['g'].values"
      ]
    },
    {
      "cell_type": "code",
      "execution_count": null,
      "metadata": {
        "colab": {
          "base_uri": "https://localhost:8080/"
        },
        "id": "IyuW9IComVNQ",
        "outputId": "d7091964-e460-4c7c-97c3-41b43388e3f7"
      },
      "outputs": [
        {
          "output_type": "execute_result",
          "data": {
            "text/plain": [
              "total_rev    int64\n",
              "g            int64\n",
              "t            int64\n",
              "gt           int64\n",
              "dtype: object"
            ]
          },
          "metadata": {},
          "execution_count": 36
        }
      ],
      "source": [
        "df_did.dtypes"
      ]
    },
    {
      "cell_type": "code",
      "execution_count": null,
      "metadata": {
        "colab": {
          "base_uri": "https://localhost:8080/"
        },
        "id": "DOAc1Or1nk0W",
        "outputId": "cd9a5d5e-1ba2-4eec-df21-4f0ac4e34c3e"
      },
      "outputs": [
        {
          "output_type": "stream",
          "name": "stdout",
          "text": [
            "                            OLS Regression Results                            \n",
            "==============================================================================\n",
            "Dep. Variable:              total_rev   R-squared:                       0.341\n",
            "Model:                            OLS   Adj. R-squared:                  0.336\n",
            "Method:                 Least Squares   F-statistic:                     67.89\n",
            "Date:                Wed, 09 Nov 2022   Prob (F-statistic):           2.09e-35\n",
            "Time:                        02:40:05   Log-Likelihood:                -2016.6\n",
            "No. Observations:                 398   AIC:                             4041.\n",
            "Df Residuals:                     394   BIC:                             4057.\n",
            "Df Model:                           3                                         \n",
            "Covariance Type:            nonrobust                                         \n",
            "==============================================================================\n",
            "                 coef    std err          t      P>|t|      [0.025      0.975]\n",
            "------------------------------------------------------------------------------\n",
            "Intercept     70.3761      3.567     19.729      0.000      63.363      77.389\n",
            "g             17.7581      5.557      3.196      0.002       6.833      28.683\n",
            "t             30.8718      5.045      6.120      0.000      20.954      40.790\n",
            "gt            29.0184      7.859      3.692      0.000      13.568      44.469\n",
            "==============================================================================\n",
            "Omnibus:                      424.099   Durbin-Watson:                   1.982\n",
            "Prob(Omnibus):                  0.000   Jarque-Bera (JB):               27.202\n",
            "Skew:                          -0.057   Prob(JB):                     1.24e-06\n",
            "Kurtosis:                       1.724   Cond. No.                         6.45\n",
            "==============================================================================\n",
            "\n",
            "Notes:\n",
            "[1] Standard Errors assume that the covariance matrix of the errors is correctly specified.\n"
          ]
        }
      ],
      "source": [
        "from statsmodels.formula.api import ols\n",
        "ols = ols('total_rev ~ g + t + gt', data=df_did).fit()\n",
        "print(ols.summary())\n",
        "## Note that the results are the same and that B3 is significant at any confidence level."
      ]
    },
    {
      "cell_type": "markdown",
      "metadata": {
        "id": "zqfQ9hBI-8BB"
      },
      "source": [
        "# 2"
      ]
    },
    {
      "cell_type": "code",
      "execution_count": null,
      "metadata": {
        "id": "JyHTIWmUoFTR"
      },
      "outputs": [],
      "source": [
        "churn_df=pd.read_excel('/content/drive/MyDrive/Data.xlsx', 'Data 2')"
      ]
    },
    {
      "cell_type": "code",
      "execution_count": null,
      "metadata": {
        "colab": {
          "base_uri": "https://localhost:8080/",
          "height": 285
        },
        "id": "gCCPebitKejv",
        "outputId": "d3fcec74-5c87-4d62-ca4e-de35948b57f9"
      },
      "outputs": [
        {
          "output_type": "execute_result",
          "data": {
            "text/plain": [
              "   Customer ID  Joined?  \\\n",
              "0      1000201        1   \n",
              "1      1000202        0   \n",
              "2      1000203        0   \n",
              "3      1000204        1   \n",
              "4      1000205        1   \n",
              "\n",
              "   Customer Age with Firm at time of launching the online community  \\\n",
              "0                                           7.008895                  \n",
              "1                                           6.595568                  \n",
              "2                                           7.932284                  \n",
              "3                                           2.391398                  \n",
              "4                                           5.335660                  \n",
              "\n",
              "    Churned at 3 months after launch of the online community  \\\n",
              "0                                                  0           \n",
              "1                                                  1           \n",
              "2                                                  1           \n",
              "3                                                  1           \n",
              "4                                                  0           \n",
              "\n",
              "   Average Spend Last 3 months of Life with the firm  \n",
              "0                                          88.000000  \n",
              "1                                         102.666667  \n",
              "2                                          45.333333  \n",
              "3                                         113.333333  \n",
              "4                                          99.333333  "
            ],
            "text/html": [
              "\n",
              "  <div id=\"df-b299e06d-fe76-4567-bb97-59a4be6d1598\">\n",
              "    <div class=\"colab-df-container\">\n",
              "      <div>\n",
              "<style scoped>\n",
              "    .dataframe tbody tr th:only-of-type {\n",
              "        vertical-align: middle;\n",
              "    }\n",
              "\n",
              "    .dataframe tbody tr th {\n",
              "        vertical-align: top;\n",
              "    }\n",
              "\n",
              "    .dataframe thead th {\n",
              "        text-align: right;\n",
              "    }\n",
              "</style>\n",
              "<table border=\"1\" class=\"dataframe\">\n",
              "  <thead>\n",
              "    <tr style=\"text-align: right;\">\n",
              "      <th></th>\n",
              "      <th>Customer ID</th>\n",
              "      <th>Joined?</th>\n",
              "      <th>Customer Age with Firm at time of launching the online community</th>\n",
              "      <th>Churned at 3 months after launch of the online community</th>\n",
              "      <th>Average Spend Last 3 months of Life with the firm</th>\n",
              "    </tr>\n",
              "  </thead>\n",
              "  <tbody>\n",
              "    <tr>\n",
              "      <th>0</th>\n",
              "      <td>1000201</td>\n",
              "      <td>1</td>\n",
              "      <td>7.008895</td>\n",
              "      <td>0</td>\n",
              "      <td>88.000000</td>\n",
              "    </tr>\n",
              "    <tr>\n",
              "      <th>1</th>\n",
              "      <td>1000202</td>\n",
              "      <td>0</td>\n",
              "      <td>6.595568</td>\n",
              "      <td>1</td>\n",
              "      <td>102.666667</td>\n",
              "    </tr>\n",
              "    <tr>\n",
              "      <th>2</th>\n",
              "      <td>1000203</td>\n",
              "      <td>0</td>\n",
              "      <td>7.932284</td>\n",
              "      <td>1</td>\n",
              "      <td>45.333333</td>\n",
              "    </tr>\n",
              "    <tr>\n",
              "      <th>3</th>\n",
              "      <td>1000204</td>\n",
              "      <td>1</td>\n",
              "      <td>2.391398</td>\n",
              "      <td>1</td>\n",
              "      <td>113.333333</td>\n",
              "    </tr>\n",
              "    <tr>\n",
              "      <th>4</th>\n",
              "      <td>1000205</td>\n",
              "      <td>1</td>\n",
              "      <td>5.335660</td>\n",
              "      <td>0</td>\n",
              "      <td>99.333333</td>\n",
              "    </tr>\n",
              "  </tbody>\n",
              "</table>\n",
              "</div>\n",
              "      <button class=\"colab-df-convert\" onclick=\"convertToInteractive('df-b299e06d-fe76-4567-bb97-59a4be6d1598')\"\n",
              "              title=\"Convert this dataframe to an interactive table.\"\n",
              "              style=\"display:none;\">\n",
              "        \n",
              "  <svg xmlns=\"http://www.w3.org/2000/svg\" height=\"24px\"viewBox=\"0 0 24 24\"\n",
              "       width=\"24px\">\n",
              "    <path d=\"M0 0h24v24H0V0z\" fill=\"none\"/>\n",
              "    <path d=\"M18.56 5.44l.94 2.06.94-2.06 2.06-.94-2.06-.94-.94-2.06-.94 2.06-2.06.94zm-11 1L8.5 8.5l.94-2.06 2.06-.94-2.06-.94L8.5 2.5l-.94 2.06-2.06.94zm10 10l.94 2.06.94-2.06 2.06-.94-2.06-.94-.94-2.06-.94 2.06-2.06.94z\"/><path d=\"M17.41 7.96l-1.37-1.37c-.4-.4-.92-.59-1.43-.59-.52 0-1.04.2-1.43.59L10.3 9.45l-7.72 7.72c-.78.78-.78 2.05 0 2.83L4 21.41c.39.39.9.59 1.41.59.51 0 1.02-.2 1.41-.59l7.78-7.78 2.81-2.81c.8-.78.8-2.07 0-2.86zM5.41 20L4 18.59l7.72-7.72 1.47 1.35L5.41 20z\"/>\n",
              "  </svg>\n",
              "      </button>\n",
              "      \n",
              "  <style>\n",
              "    .colab-df-container {\n",
              "      display:flex;\n",
              "      flex-wrap:wrap;\n",
              "      gap: 12px;\n",
              "    }\n",
              "\n",
              "    .colab-df-convert {\n",
              "      background-color: #E8F0FE;\n",
              "      border: none;\n",
              "      border-radius: 50%;\n",
              "      cursor: pointer;\n",
              "      display: none;\n",
              "      fill: #1967D2;\n",
              "      height: 32px;\n",
              "      padding: 0 0 0 0;\n",
              "      width: 32px;\n",
              "    }\n",
              "\n",
              "    .colab-df-convert:hover {\n",
              "      background-color: #E2EBFA;\n",
              "      box-shadow: 0px 1px 2px rgba(60, 64, 67, 0.3), 0px 1px 3px 1px rgba(60, 64, 67, 0.15);\n",
              "      fill: #174EA6;\n",
              "    }\n",
              "\n",
              "    [theme=dark] .colab-df-convert {\n",
              "      background-color: #3B4455;\n",
              "      fill: #D2E3FC;\n",
              "    }\n",
              "\n",
              "    [theme=dark] .colab-df-convert:hover {\n",
              "      background-color: #434B5C;\n",
              "      box-shadow: 0px 1px 3px 1px rgba(0, 0, 0, 0.15);\n",
              "      filter: drop-shadow(0px 1px 2px rgba(0, 0, 0, 0.3));\n",
              "      fill: #FFFFFF;\n",
              "    }\n",
              "  </style>\n",
              "\n",
              "      <script>\n",
              "        const buttonEl =\n",
              "          document.querySelector('#df-b299e06d-fe76-4567-bb97-59a4be6d1598 button.colab-df-convert');\n",
              "        buttonEl.style.display =\n",
              "          google.colab.kernel.accessAllowed ? 'block' : 'none';\n",
              "\n",
              "        async function convertToInteractive(key) {\n",
              "          const element = document.querySelector('#df-b299e06d-fe76-4567-bb97-59a4be6d1598');\n",
              "          const dataTable =\n",
              "            await google.colab.kernel.invokeFunction('convertToInteractive',\n",
              "                                                     [key], {});\n",
              "          if (!dataTable) return;\n",
              "\n",
              "          const docLinkHtml = 'Like what you see? Visit the ' +\n",
              "            '<a target=\"_blank\" href=https://colab.research.google.com/notebooks/data_table.ipynb>data table notebook</a>'\n",
              "            + ' to learn more about interactive tables.';\n",
              "          element.innerHTML = '';\n",
              "          dataTable['output_type'] = 'display_data';\n",
              "          await google.colab.output.renderOutput(dataTable, element);\n",
              "          const docLink = document.createElement('div');\n",
              "          docLink.innerHTML = docLinkHtml;\n",
              "          element.appendChild(docLink);\n",
              "        }\n",
              "      </script>\n",
              "    </div>\n",
              "  </div>\n",
              "  "
            ]
          },
          "metadata": {},
          "execution_count": 14
        }
      ],
      "source": [
        "churn_df.head()"
      ]
    },
    {
      "cell_type": "code",
      "execution_count": null,
      "metadata": {
        "id": "MWi7brt0K3Kn"
      },
      "outputs": [],
      "source": [
        "churn_df['Average Spend Last 3 months of Life with the firm']=np.round(\n",
        "    churn_df['Average Spend Last 3 months of Life with the firm'])"
      ]
    },
    {
      "cell_type": "code",
      "execution_count": null,
      "metadata": {
        "colab": {
          "base_uri": "https://localhost:8080/"
        },
        "id": "vgI43ErG_-8e",
        "outputId": "eeadd983-45b4-4923-fd36-ffccc6f5f02c"
      },
      "outputs": [
        {
          "output_type": "stream",
          "name": "stderr",
          "text": [
            "/usr/local/lib/python3.7/dist-packages/statsmodels/tsa/tsatools.py:142: FutureWarning: In a future version of pandas all arguments of concat except for the argument 'objs' will be keyword-only\n",
            "  x = pd.concat(x[::order], 1)\n"
          ]
        }
      ],
      "source": [
        "import statsmodels.api as sm\n",
        "x=churn_df[[\"Joined?\",\n",
        "            \"Customer Age with Firm at time of launching the online community\",\n",
        "            \"Average Spend Last 3 months of Life with the firm\"]]\n",
        "y=churn_df[' Churned at 3 months after launch of the online community']\n",
        "x=sm.add_constant(x)"
      ]
    },
    {
      "cell_type": "code",
      "source": [
        "len(churn_df[(churn_df[' Churned at 3 months after launch of the online community']==1) &\n",
        "         (churn_df['Joined?']==1)])/sum(churn_df['Joined?']==1)"
      ],
      "metadata": {
        "colab": {
          "base_uri": "https://localhost:8080/"
        },
        "id": "fMjAQzj_Vy3y",
        "outputId": "6abb5099-5501-4b91-93cb-e61ea73748ea"
      },
      "execution_count": null,
      "outputs": [
        {
          "output_type": "execute_result",
          "data": {
            "text/plain": [
              "0.7073170731707317"
            ]
          },
          "metadata": {},
          "execution_count": 17
        }
      ]
    },
    {
      "cell_type": "code",
      "source": [
        "len(churn_df[(churn_df[' Churned at 3 months after launch of the online community']==1) &\n",
        "         (churn_df['Joined?']==0)])/sum(churn_df['Joined?']==0)"
      ],
      "metadata": {
        "colab": {
          "base_uri": "https://localhost:8080/"
        },
        "id": "NqWW0UK_WQ-g",
        "outputId": "ca083b51-3f4f-4a9b-f47c-5da5dcefdfca"
      },
      "execution_count": null,
      "outputs": [
        {
          "output_type": "execute_result",
          "data": {
            "text/plain": [
              "0.5128205128205128"
            ]
          },
          "metadata": {},
          "execution_count": 18
        }
      ]
    },
    {
      "cell_type": "code",
      "execution_count": null,
      "metadata": {
        "colab": {
          "base_uri": "https://localhost:8080/",
          "height": 348
        },
        "id": "LcjNHlBbAw6A",
        "outputId": "208b3a39-e774-4832-8f93-71b5491fd8ed"
      },
      "outputs": [
        {
          "output_type": "stream",
          "name": "stdout",
          "text": [
            "Optimization terminated successfully.\n",
            "         Current function value: 0.654587\n",
            "         Iterations 5\n"
          ]
        },
        {
          "output_type": "execute_result",
          "data": {
            "text/plain": [
              "<class 'statsmodels.iolib.summary.Summary'>\n",
              "\"\"\"\n",
              "                                               Logit Regression Results                                              \n",
              "=====================================================================================================================\n",
              "Dep. Variable:      Churned at 3 months after launch of the online community   No. Observations:                  199\n",
              "Model:                                                                 Logit   Df Residuals:                      195\n",
              "Method:                                                                  MLE   Df Model:                            3\n",
              "Date:                                                       Fri, 11 Nov 2022   Pseudo R-squ.:                 0.03133\n",
              "Time:                                                               07:19:30   Log-Likelihood:                -130.26\n",
              "converged:                                                              True   LL-Null:                       -134.48\n",
              "Covariance Type:                                                   nonrobust   LLR p-value:                   0.03796\n",
              "====================================================================================================================================\n",
              "                                                                       coef    std err          z      P>|z|      [0.025      0.975]\n",
              "------------------------------------------------------------------------------------------------------------------------------------\n",
              "const                                                                0.4672      0.536      0.872      0.383      -0.583       1.517\n",
              "Joined?                                                              0.9196      0.355      2.589      0.010       0.223       1.616\n",
              "Customer Age with Firm at time of launching the online community    -0.0518      0.073     -0.709      0.479      -0.195       0.092\n",
              "Average Spend Last 3 months of Life with the firm                   -0.0030      0.006     -0.524      0.600      -0.014       0.008\n",
              "====================================================================================================================================\n",
              "\"\"\""
            ],
            "text/html": [
              "<table class=\"simpletable\">\n",
              "<caption>Logit Regression Results</caption>\n",
              "<tr>\n",
              "  <th>Dep. Variable:</th>   <td> Churned at 3 months after launch of the online community</td> <th>  No. Observations:  </th>  <td>   199</td> \n",
              "</tr>\n",
              "<tr>\n",
              "  <th>Model:</th>                                     <td>Logit</td>                           <th>  Df Residuals:      </th>  <td>   195</td> \n",
              "</tr>\n",
              "<tr>\n",
              "  <th>Method:</th>                                     <td>MLE</td>                            <th>  Df Model:          </th>  <td>     3</td> \n",
              "</tr>\n",
              "<tr>\n",
              "  <th>Date:</th>                                <td>Fri, 11 Nov 2022</td>                      <th>  Pseudo R-squ.:     </th>  <td>0.03133</td>\n",
              "</tr>\n",
              "<tr>\n",
              "  <th>Time:</th>                                    <td>07:19:30</td>                          <th>  Log-Likelihood:    </th> <td> -130.26</td>\n",
              "</tr>\n",
              "<tr>\n",
              "  <th>converged:</th>                                 <td>True</td>                            <th>  LL-Null:           </th> <td> -134.48</td>\n",
              "</tr>\n",
              "<tr>\n",
              "  <th>Covariance Type:</th>                         <td>nonrobust</td>                         <th>  LLR p-value:       </th>  <td>0.03796</td>\n",
              "</tr>\n",
              "</table>\n",
              "<table class=\"simpletable\">\n",
              "<tr>\n",
              "                                  <td></td>                                    <th>coef</th>     <th>std err</th>      <th>z</th>      <th>P>|z|</th>  <th>[0.025</th>    <th>0.975]</th>  \n",
              "</tr>\n",
              "<tr>\n",
              "  <th>const</th>                                                            <td>    0.4672</td> <td>    0.536</td> <td>    0.872</td> <td> 0.383</td> <td>   -0.583</td> <td>    1.517</td>\n",
              "</tr>\n",
              "<tr>\n",
              "  <th>Joined?</th>                                                          <td>    0.9196</td> <td>    0.355</td> <td>    2.589</td> <td> 0.010</td> <td>    0.223</td> <td>    1.616</td>\n",
              "</tr>\n",
              "<tr>\n",
              "  <th>Customer Age with Firm at time of launching the online community</th> <td>   -0.0518</td> <td>    0.073</td> <td>   -0.709</td> <td> 0.479</td> <td>   -0.195</td> <td>    0.092</td>\n",
              "</tr>\n",
              "<tr>\n",
              "  <th>Average Spend Last 3 months of Life with the firm</th>                <td>   -0.0030</td> <td>    0.006</td> <td>   -0.524</td> <td> 0.600</td> <td>   -0.014</td> <td>    0.008</td>\n",
              "</tr>\n",
              "</table>"
            ]
          },
          "metadata": {},
          "execution_count": 19
        }
      ],
      "source": [
        "log_churn=sm.Logit(y, x).fit()\n",
        "log_churn.summary()"
      ]
    },
    {
      "cell_type": "code",
      "execution_count": null,
      "metadata": {
        "colab": {
          "base_uri": "https://localhost:8080/"
        },
        "id": "oI5Z8yUiBPPz",
        "outputId": "6f1c9296-2af8-441e-d816-d8204641c52d"
      },
      "outputs": [
        {
          "output_type": "stream",
          "name": "stdout",
          "text": [
            "                                                          5%       95%  \\\n",
            "const                                               0.558242  4.560641   \n",
            "Joined?                                             1.250391  5.031874   \n",
            "Customer Age with Firm at time of launching the...  0.822677  1.095848   \n",
            "Average Spend Last 3 months of Life with the firm   0.986036  1.008163   \n",
            "\n",
            "                                                    Odds Ratio  \n",
            "const                                                 1.595600  \n",
            "Joined?                                               2.508348  \n",
            "Customer Age with Firm at time of launching the...    0.949489  \n",
            "Average Spend Last 3 months of Life with the firm     0.997038  \n"
          ]
        }
      ],
      "source": [
        "params=log_churn.params\n",
        "ci=log_churn.conf_int()\n",
        "ci['Odds Ratio'] = params\n",
        "ci.columns = ['5%', '95%', 'Odds Ratio']\n",
        "print(np.exp(ci))"
      ]
    },
    {
      "cell_type": "markdown",
      "metadata": {
        "id": "8bLO-25UDe-m"
      },
      "source": [
        "odds ratio interpretation: If someone joins the community they are 150.9% more likely to churn than someone who has not joined the community."
      ]
    },
    {
      "cell_type": "markdown",
      "metadata": {
        "id": "A-SDeq8SCy4A"
      },
      "source": [
        "# 3"
      ]
    },
    {
      "cell_type": "code",
      "execution_count": null,
      "metadata": {
        "id": "lH9WbO0BMKUB"
      },
      "outputs": [],
      "source": [
        "churn_df_q3=pd.read_csv(\"/content/drive/MyDrive/Assignment3/Assignment3HW3_Data.csv\")\n",
        "#df_question_1=pd.read_excel('/content/drive/MyDrive/Assignment3/Assignment3HW3_Data.xlsx',\n",
        "                  #'Data 1')"
      ]
    },
    {
      "cell_type": "code",
      "source": [
        "#churn_df_q3=churn_df_q3.merge(did[['Customer ID',\"Month Before\",\"Month After\"]], on='Customer ID')"
      ],
      "metadata": {
        "id": "0bZOei_LnzMB"
      },
      "execution_count": null,
      "outputs": []
    },
    {
      "cell_type": "code",
      "execution_count": null,
      "metadata": {
        "id": "uNzRaf3iKRiW"
      },
      "outputs": [],
      "source": [
        "i=0.05\n",
        "churn_df_q3['m']=0.5*3*churn_df_q3['Average Spend Last 3 months of Life with the firm']\n",
        "#churn_df_q3['m_before']=0.5*churn_df_q3['Month Before']\n",
        "#churn_df_q3['m_after']=0.5*churn_df_q3['Month After']"
      ]
    },
    {
      "cell_type": "code",
      "source": [
        "from sklearn.metrics import accuracy_score\n",
        "accuracy_score(np.round(log_churn.predict()),churn_df_q3[' Churned at 3 months after launch of the online community'])"
      ],
      "metadata": {
        "colab": {
          "base_uri": "https://localhost:8080/"
        },
        "id": "rA7pwuJAnvrg",
        "outputId": "9d250ae2-f842-49fa-d002-bc23ac50c9bf"
      },
      "execution_count": null,
      "outputs": [
        {
          "output_type": "execute_result",
          "data": {
            "text/plain": [
              "0.6130653266331658"
            ]
          },
          "metadata": {},
          "execution_count": 24
        }
      ]
    },
    {
      "cell_type": "code",
      "source": [
        "from sklearn.metrics import roc_auc_score\n",
        "roc_auc_score(np.round(log_churn.predict()),churn_df_q3[' Churned at 3 months after launch of the online community'])"
      ],
      "metadata": {
        "colab": {
          "base_uri": "https://localhost:8080/"
        },
        "id": "NS3MLIezwx0N",
        "outputId": "b788a37d-289f-453f-ba20-afc7feba0020"
      },
      "execution_count": null,
      "outputs": [
        {
          "output_type": "execute_result",
          "data": {
            "text/plain": [
              "0.5888563049853373"
            ]
          },
          "metadata": {},
          "execution_count": 25
        }
      ]
    },
    {
      "cell_type": "code",
      "source": [
        "import seaborn as sns\n",
        "from sklearn.metrics import confusion_matrix\n",
        "confusion_matrix(np.round(log_churn.predict()),churn_df_q3[' Churned at 3 months after launch of the online community'])"
      ],
      "metadata": {
        "colab": {
          "base_uri": "https://localhost:8080/"
        },
        "id": "z7scXMjnxBhE",
        "outputId": "87410b5d-81ed-45d7-8cd2-8230fc8c496d"
      },
      "execution_count": null,
      "outputs": [
        {
          "output_type": "execute_result",
          "data": {
            "text/plain": [
              "array([[24, 20],\n",
              "       [57, 98]])"
            ]
          },
          "metadata": {},
          "execution_count": 26
        }
      ]
    },
    {
      "cell_type": "code",
      "execution_count": null,
      "metadata": {
        "id": "_U-s0CJXLr5x"
      },
      "outputs": [],
      "source": [
        "churn_df_q3[\"r\"]=1-log_churn.predict()\n",
        "#sum(churn_df_q3[' Churned at 3 months after launch of the online community']==0)/len(churn_df_q3)\n",
        "#log_churn.predict(x)"
      ]
    },
    {
      "cell_type": "code",
      "execution_count": null,
      "metadata": {
        "id": "O-7W0jBtM97L"
      },
      "outputs": [],
      "source": [
        "churn_df_q3['clv']=churn_df_q3['m']*((1+i)/(1+i-churn_df_q3[\"r\"]))\n",
        "#churn_df_q3['clv_before']=churn_df_q3['m_before']*((1+i)/(1+i+churn_df_q3[\"r\"]))\n",
        "#churn_df_q3['clv_after']=churn_df_q3['m_after']*((1+i)/(1+i+churn_df_q3[\"r\"]))\n",
        "#(churn_df_q3['m']*churn_df_q3['r'])/(1+i)"
      ]
    },
    {
      "cell_type": "code",
      "execution_count": null,
      "metadata": {
        "colab": {
          "base_uri": "https://localhost:8080/",
          "height": 520
        },
        "id": "N3jPJZawVfPR",
        "outputId": "d6dd412a-8950-4745-bb36-9199f17761ef"
      },
      "outputs": [
        {
          "output_type": "execute_result",
          "data": {
            "text/plain": [
              "     Customer ID  Joined?  \\\n",
              "0        1000201        1   \n",
              "1        1000202        0   \n",
              "2        1000203        0   \n",
              "3        1000204        1   \n",
              "4        1000205        1   \n",
              "..           ...      ...   \n",
              "194      1000395        0   \n",
              "195      1000396        0   \n",
              "196      1000397        0   \n",
              "197      1000398        1   \n",
              "198      1000399        0   \n",
              "\n",
              "     Customer Age with Firm at time of launching the online community  \\\n",
              "0                                                    7                  \n",
              "1                                                    7                  \n",
              "2                                                    8                  \n",
              "3                                                    2                  \n",
              "4                                                    5                  \n",
              "..                                                 ...                  \n",
              "194                                                  4                  \n",
              "195                                                  5                  \n",
              "196                                                  5                  \n",
              "197                                                  2                  \n",
              "198                                                  6                  \n",
              "\n",
              "      Churned at 3 months after launch of the online community  \\\n",
              "0                                                    0           \n",
              "1                                                    1           \n",
              "2                                                    1           \n",
              "3                                                    1           \n",
              "4                                                    0           \n",
              "..                                                 ...           \n",
              "194                                                  1           \n",
              "195                                                  1           \n",
              "196                                                  0           \n",
              "197                                                  1           \n",
              "198                                                  1           \n",
              "\n",
              "     Average Spend Last 3 months of Life with the firm      m         r  \\\n",
              "0                                                   88  132.0  0.318086   \n",
              "1                                                  103  154.5  0.544906   \n",
              "2                                                   45   67.5  0.519331   \n",
              "3                                                  113  169.5  0.283379   \n",
              "4                                                   99  148.5  0.306469   \n",
              "..                                                 ...    ...       ...   \n",
              "194                                                 95  142.5  0.501258   \n",
              "195                                                 28   42.0  0.472365   \n",
              "196                                                 25   37.5  0.464734   \n",
              "197                                                 95  142.5  0.265905   \n",
              "198                                                 47   70.5  0.498582   \n",
              "\n",
              "            clv  \n",
              "0    189.366553  \n",
              "1    321.178098  \n",
              "2    133.557890  \n",
              "3    232.155202  \n",
              "4    209.708743  \n",
              "..          ...  \n",
              "194  272.669265  \n",
              "195   76.345737  \n",
              "196   67.277096  \n",
              "197  190.825167  \n",
              "198  134.244777  \n",
              "\n",
              "[199 rows x 8 columns]"
            ],
            "text/html": [
              "\n",
              "  <div id=\"df-cbeb7854-3e47-4acd-a4ab-995afb0fd700\">\n",
              "    <div class=\"colab-df-container\">\n",
              "      <div>\n",
              "<style scoped>\n",
              "    .dataframe tbody tr th:only-of-type {\n",
              "        vertical-align: middle;\n",
              "    }\n",
              "\n",
              "    .dataframe tbody tr th {\n",
              "        vertical-align: top;\n",
              "    }\n",
              "\n",
              "    .dataframe thead th {\n",
              "        text-align: right;\n",
              "    }\n",
              "</style>\n",
              "<table border=\"1\" class=\"dataframe\">\n",
              "  <thead>\n",
              "    <tr style=\"text-align: right;\">\n",
              "      <th></th>\n",
              "      <th>Customer ID</th>\n",
              "      <th>Joined?</th>\n",
              "      <th>Customer Age with Firm at time of launching the online community</th>\n",
              "      <th>Churned at 3 months after launch of the online community</th>\n",
              "      <th>Average Spend Last 3 months of Life with the firm</th>\n",
              "      <th>m</th>\n",
              "      <th>r</th>\n",
              "      <th>clv</th>\n",
              "    </tr>\n",
              "  </thead>\n",
              "  <tbody>\n",
              "    <tr>\n",
              "      <th>0</th>\n",
              "      <td>1000201</td>\n",
              "      <td>1</td>\n",
              "      <td>7</td>\n",
              "      <td>0</td>\n",
              "      <td>88</td>\n",
              "      <td>132.0</td>\n",
              "      <td>0.318086</td>\n",
              "      <td>189.366553</td>\n",
              "    </tr>\n",
              "    <tr>\n",
              "      <th>1</th>\n",
              "      <td>1000202</td>\n",
              "      <td>0</td>\n",
              "      <td>7</td>\n",
              "      <td>1</td>\n",
              "      <td>103</td>\n",
              "      <td>154.5</td>\n",
              "      <td>0.544906</td>\n",
              "      <td>321.178098</td>\n",
              "    </tr>\n",
              "    <tr>\n",
              "      <th>2</th>\n",
              "      <td>1000203</td>\n",
              "      <td>0</td>\n",
              "      <td>8</td>\n",
              "      <td>1</td>\n",
              "      <td>45</td>\n",
              "      <td>67.5</td>\n",
              "      <td>0.519331</td>\n",
              "      <td>133.557890</td>\n",
              "    </tr>\n",
              "    <tr>\n",
              "      <th>3</th>\n",
              "      <td>1000204</td>\n",
              "      <td>1</td>\n",
              "      <td>2</td>\n",
              "      <td>1</td>\n",
              "      <td>113</td>\n",
              "      <td>169.5</td>\n",
              "      <td>0.283379</td>\n",
              "      <td>232.155202</td>\n",
              "    </tr>\n",
              "    <tr>\n",
              "      <th>4</th>\n",
              "      <td>1000205</td>\n",
              "      <td>1</td>\n",
              "      <td>5</td>\n",
              "      <td>0</td>\n",
              "      <td>99</td>\n",
              "      <td>148.5</td>\n",
              "      <td>0.306469</td>\n",
              "      <td>209.708743</td>\n",
              "    </tr>\n",
              "    <tr>\n",
              "      <th>...</th>\n",
              "      <td>...</td>\n",
              "      <td>...</td>\n",
              "      <td>...</td>\n",
              "      <td>...</td>\n",
              "      <td>...</td>\n",
              "      <td>...</td>\n",
              "      <td>...</td>\n",
              "      <td>...</td>\n",
              "    </tr>\n",
              "    <tr>\n",
              "      <th>194</th>\n",
              "      <td>1000395</td>\n",
              "      <td>0</td>\n",
              "      <td>4</td>\n",
              "      <td>1</td>\n",
              "      <td>95</td>\n",
              "      <td>142.5</td>\n",
              "      <td>0.501258</td>\n",
              "      <td>272.669265</td>\n",
              "    </tr>\n",
              "    <tr>\n",
              "      <th>195</th>\n",
              "      <td>1000396</td>\n",
              "      <td>0</td>\n",
              "      <td>5</td>\n",
              "      <td>1</td>\n",
              "      <td>28</td>\n",
              "      <td>42.0</td>\n",
              "      <td>0.472365</td>\n",
              "      <td>76.345737</td>\n",
              "    </tr>\n",
              "    <tr>\n",
              "      <th>196</th>\n",
              "      <td>1000397</td>\n",
              "      <td>0</td>\n",
              "      <td>5</td>\n",
              "      <td>0</td>\n",
              "      <td>25</td>\n",
              "      <td>37.5</td>\n",
              "      <td>0.464734</td>\n",
              "      <td>67.277096</td>\n",
              "    </tr>\n",
              "    <tr>\n",
              "      <th>197</th>\n",
              "      <td>1000398</td>\n",
              "      <td>1</td>\n",
              "      <td>2</td>\n",
              "      <td>1</td>\n",
              "      <td>95</td>\n",
              "      <td>142.5</td>\n",
              "      <td>0.265905</td>\n",
              "      <td>190.825167</td>\n",
              "    </tr>\n",
              "    <tr>\n",
              "      <th>198</th>\n",
              "      <td>1000399</td>\n",
              "      <td>0</td>\n",
              "      <td>6</td>\n",
              "      <td>1</td>\n",
              "      <td>47</td>\n",
              "      <td>70.5</td>\n",
              "      <td>0.498582</td>\n",
              "      <td>134.244777</td>\n",
              "    </tr>\n",
              "  </tbody>\n",
              "</table>\n",
              "<p>199 rows × 8 columns</p>\n",
              "</div>\n",
              "      <button class=\"colab-df-convert\" onclick=\"convertToInteractive('df-cbeb7854-3e47-4acd-a4ab-995afb0fd700')\"\n",
              "              title=\"Convert this dataframe to an interactive table.\"\n",
              "              style=\"display:none;\">\n",
              "        \n",
              "  <svg xmlns=\"http://www.w3.org/2000/svg\" height=\"24px\"viewBox=\"0 0 24 24\"\n",
              "       width=\"24px\">\n",
              "    <path d=\"M0 0h24v24H0V0z\" fill=\"none\"/>\n",
              "    <path d=\"M18.56 5.44l.94 2.06.94-2.06 2.06-.94-2.06-.94-.94-2.06-.94 2.06-2.06.94zm-11 1L8.5 8.5l.94-2.06 2.06-.94-2.06-.94L8.5 2.5l-.94 2.06-2.06.94zm10 10l.94 2.06.94-2.06 2.06-.94-2.06-.94-.94-2.06-.94 2.06-2.06.94z\"/><path d=\"M17.41 7.96l-1.37-1.37c-.4-.4-.92-.59-1.43-.59-.52 0-1.04.2-1.43.59L10.3 9.45l-7.72 7.72c-.78.78-.78 2.05 0 2.83L4 21.41c.39.39.9.59 1.41.59.51 0 1.02-.2 1.41-.59l7.78-7.78 2.81-2.81c.8-.78.8-2.07 0-2.86zM5.41 20L4 18.59l7.72-7.72 1.47 1.35L5.41 20z\"/>\n",
              "  </svg>\n",
              "      </button>\n",
              "      \n",
              "  <style>\n",
              "    .colab-df-container {\n",
              "      display:flex;\n",
              "      flex-wrap:wrap;\n",
              "      gap: 12px;\n",
              "    }\n",
              "\n",
              "    .colab-df-convert {\n",
              "      background-color: #E8F0FE;\n",
              "      border: none;\n",
              "      border-radius: 50%;\n",
              "      cursor: pointer;\n",
              "      display: none;\n",
              "      fill: #1967D2;\n",
              "      height: 32px;\n",
              "      padding: 0 0 0 0;\n",
              "      width: 32px;\n",
              "    }\n",
              "\n",
              "    .colab-df-convert:hover {\n",
              "      background-color: #E2EBFA;\n",
              "      box-shadow: 0px 1px 2px rgba(60, 64, 67, 0.3), 0px 1px 3px 1px rgba(60, 64, 67, 0.15);\n",
              "      fill: #174EA6;\n",
              "    }\n",
              "\n",
              "    [theme=dark] .colab-df-convert {\n",
              "      background-color: #3B4455;\n",
              "      fill: #D2E3FC;\n",
              "    }\n",
              "\n",
              "    [theme=dark] .colab-df-convert:hover {\n",
              "      background-color: #434B5C;\n",
              "      box-shadow: 0px 1px 3px 1px rgba(0, 0, 0, 0.15);\n",
              "      filter: drop-shadow(0px 1px 2px rgba(0, 0, 0, 0.3));\n",
              "      fill: #FFFFFF;\n",
              "    }\n",
              "  </style>\n",
              "\n",
              "      <script>\n",
              "        const buttonEl =\n",
              "          document.querySelector('#df-cbeb7854-3e47-4acd-a4ab-995afb0fd700 button.colab-df-convert');\n",
              "        buttonEl.style.display =\n",
              "          google.colab.kernel.accessAllowed ? 'block' : 'none';\n",
              "\n",
              "        async function convertToInteractive(key) {\n",
              "          const element = document.querySelector('#df-cbeb7854-3e47-4acd-a4ab-995afb0fd700');\n",
              "          const dataTable =\n",
              "            await google.colab.kernel.invokeFunction('convertToInteractive',\n",
              "                                                     [key], {});\n",
              "          if (!dataTable) return;\n",
              "\n",
              "          const docLinkHtml = 'Like what you see? Visit the ' +\n",
              "            '<a target=\"_blank\" href=https://colab.research.google.com/notebooks/data_table.ipynb>data table notebook</a>'\n",
              "            + ' to learn more about interactive tables.';\n",
              "          element.innerHTML = '';\n",
              "          dataTable['output_type'] = 'display_data';\n",
              "          await google.colab.output.renderOutput(dataTable, element);\n",
              "          const docLink = document.createElement('div');\n",
              "          docLink.innerHTML = docLinkHtml;\n",
              "          element.appendChild(docLink);\n",
              "        }\n",
              "      </script>\n",
              "    </div>\n",
              "  </div>\n",
              "  "
            ]
          },
          "metadata": {},
          "execution_count": 29
        }
      ],
      "source": [
        "churn_df_q3"
      ]
    },
    {
      "cell_type": "code",
      "source": [
        "churn_df_q3.groupby('Joined?')[['clv']].mean()"
      ],
      "metadata": {
        "colab": {
          "base_uri": "https://localhost:8080/",
          "height": 143
        },
        "id": "d-WmkNXy5IEo",
        "outputId": "5fb91b4a-ff4d-4ccf-e358-6555ed34c144"
      },
      "execution_count": null,
      "outputs": [
        {
          "output_type": "execute_result",
          "data": {
            "text/plain": [
              "                clv\n",
              "Joined?            \n",
              "0        191.773491\n",
              "1        206.660052"
            ],
            "text/html": [
              "\n",
              "  <div id=\"df-b97fa373-715b-451b-af04-609783f86edc\">\n",
              "    <div class=\"colab-df-container\">\n",
              "      <div>\n",
              "<style scoped>\n",
              "    .dataframe tbody tr th:only-of-type {\n",
              "        vertical-align: middle;\n",
              "    }\n",
              "\n",
              "    .dataframe tbody tr th {\n",
              "        vertical-align: top;\n",
              "    }\n",
              "\n",
              "    .dataframe thead th {\n",
              "        text-align: right;\n",
              "    }\n",
              "</style>\n",
              "<table border=\"1\" class=\"dataframe\">\n",
              "  <thead>\n",
              "    <tr style=\"text-align: right;\">\n",
              "      <th></th>\n",
              "      <th>clv</th>\n",
              "    </tr>\n",
              "    <tr>\n",
              "      <th>Joined?</th>\n",
              "      <th></th>\n",
              "    </tr>\n",
              "  </thead>\n",
              "  <tbody>\n",
              "    <tr>\n",
              "      <th>0</th>\n",
              "      <td>191.773491</td>\n",
              "    </tr>\n",
              "    <tr>\n",
              "      <th>1</th>\n",
              "      <td>206.660052</td>\n",
              "    </tr>\n",
              "  </tbody>\n",
              "</table>\n",
              "</div>\n",
              "      <button class=\"colab-df-convert\" onclick=\"convertToInteractive('df-b97fa373-715b-451b-af04-609783f86edc')\"\n",
              "              title=\"Convert this dataframe to an interactive table.\"\n",
              "              style=\"display:none;\">\n",
              "        \n",
              "  <svg xmlns=\"http://www.w3.org/2000/svg\" height=\"24px\"viewBox=\"0 0 24 24\"\n",
              "       width=\"24px\">\n",
              "    <path d=\"M0 0h24v24H0V0z\" fill=\"none\"/>\n",
              "    <path d=\"M18.56 5.44l.94 2.06.94-2.06 2.06-.94-2.06-.94-.94-2.06-.94 2.06-2.06.94zm-11 1L8.5 8.5l.94-2.06 2.06-.94-2.06-.94L8.5 2.5l-.94 2.06-2.06.94zm10 10l.94 2.06.94-2.06 2.06-.94-2.06-.94-.94-2.06-.94 2.06-2.06.94z\"/><path d=\"M17.41 7.96l-1.37-1.37c-.4-.4-.92-.59-1.43-.59-.52 0-1.04.2-1.43.59L10.3 9.45l-7.72 7.72c-.78.78-.78 2.05 0 2.83L4 21.41c.39.39.9.59 1.41.59.51 0 1.02-.2 1.41-.59l7.78-7.78 2.81-2.81c.8-.78.8-2.07 0-2.86zM5.41 20L4 18.59l7.72-7.72 1.47 1.35L5.41 20z\"/>\n",
              "  </svg>\n",
              "      </button>\n",
              "      \n",
              "  <style>\n",
              "    .colab-df-container {\n",
              "      display:flex;\n",
              "      flex-wrap:wrap;\n",
              "      gap: 12px;\n",
              "    }\n",
              "\n",
              "    .colab-df-convert {\n",
              "      background-color: #E8F0FE;\n",
              "      border: none;\n",
              "      border-radius: 50%;\n",
              "      cursor: pointer;\n",
              "      display: none;\n",
              "      fill: #1967D2;\n",
              "      height: 32px;\n",
              "      padding: 0 0 0 0;\n",
              "      width: 32px;\n",
              "    }\n",
              "\n",
              "    .colab-df-convert:hover {\n",
              "      background-color: #E2EBFA;\n",
              "      box-shadow: 0px 1px 2px rgba(60, 64, 67, 0.3), 0px 1px 3px 1px rgba(60, 64, 67, 0.15);\n",
              "      fill: #174EA6;\n",
              "    }\n",
              "\n",
              "    [theme=dark] .colab-df-convert {\n",
              "      background-color: #3B4455;\n",
              "      fill: #D2E3FC;\n",
              "    }\n",
              "\n",
              "    [theme=dark] .colab-df-convert:hover {\n",
              "      background-color: #434B5C;\n",
              "      box-shadow: 0px 1px 3px 1px rgba(0, 0, 0, 0.15);\n",
              "      filter: drop-shadow(0px 1px 2px rgba(0, 0, 0, 0.3));\n",
              "      fill: #FFFFFF;\n",
              "    }\n",
              "  </style>\n",
              "\n",
              "      <script>\n",
              "        const buttonEl =\n",
              "          document.querySelector('#df-b97fa373-715b-451b-af04-609783f86edc button.colab-df-convert');\n",
              "        buttonEl.style.display =\n",
              "          google.colab.kernel.accessAllowed ? 'block' : 'none';\n",
              "\n",
              "        async function convertToInteractive(key) {\n",
              "          const element = document.querySelector('#df-b97fa373-715b-451b-af04-609783f86edc');\n",
              "          const dataTable =\n",
              "            await google.colab.kernel.invokeFunction('convertToInteractive',\n",
              "                                                     [key], {});\n",
              "          if (!dataTable) return;\n",
              "\n",
              "          const docLinkHtml = 'Like what you see? Visit the ' +\n",
              "            '<a target=\"_blank\" href=https://colab.research.google.com/notebooks/data_table.ipynb>data table notebook</a>'\n",
              "            + ' to learn more about interactive tables.';\n",
              "          element.innerHTML = '';\n",
              "          dataTable['output_type'] = 'display_data';\n",
              "          await google.colab.output.renderOutput(dataTable, element);\n",
              "          const docLink = document.createElement('div');\n",
              "          docLink.innerHTML = docLinkHtml;\n",
              "          element.appendChild(docLink);\n",
              "        }\n",
              "      </script>\n",
              "    </div>\n",
              "  </div>\n",
              "  "
            ]
          },
          "metadata": {},
          "execution_count": 30
        }
      ]
    },
    {
      "cell_type": "code",
      "execution_count": null,
      "metadata": {
        "colab": {
          "base_uri": "https://localhost:8080/"
        },
        "id": "gTGnKATqV6Ba",
        "outputId": "247f40fe-f62a-4df5-de67-7e9469a53b52"
      },
      "outputs": [
        {
          "output_type": "execute_result",
          "data": {
            "text/plain": [
              "Index(['Customer ID', 'Joined?',\n",
              "       'Customer Age with Firm at time of launching the online community',\n",
              "       ' Churned at 3 months after launch of the online community',\n",
              "       'Average Spend Last 3 months of Life with the firm', 'm', 'r', 'clv'],\n",
              "      dtype='object')"
            ]
          },
          "metadata": {},
          "execution_count": 31
        }
      ],
      "source": [
        "churn_df_q3.columns"
      ]
    },
    {
      "cell_type": "code",
      "source": [
        "churn_df_q3.corr()"
      ],
      "metadata": {
        "colab": {
          "base_uri": "https://localhost:8080/",
          "height": 639
        },
        "id": "uk-L_cXKxDlW",
        "outputId": "16704f3d-4be6-4dd3-8eb7-236c6b9c1e64"
      },
      "execution_count": null,
      "outputs": [
        {
          "output_type": "execute_result",
          "data": {
            "text/plain": [
              "                                                    Customer ID   Joined?  \\\n",
              "Customer ID                                            1.000000 -0.080153   \n",
              "Joined?                                               -0.080153  1.000000   \n",
              "Customer Age with Firm at time of launching the...    -0.063062 -0.026346   \n",
              " Churned at 3 months after launch of the online...     0.083331  0.194862   \n",
              "Average Spend Last 3 months of Life with the firm     -0.066226  0.506416   \n",
              "m                                                     -0.066226  0.506416   \n",
              "r                                                      0.055355 -0.956028   \n",
              "clv                                                   -0.044380  0.100803   \n",
              "\n",
              "                                                    Customer Age with Firm at time of launching the online community  \\\n",
              "Customer ID                                                                                 -0.063062                  \n",
              "Joined?                                                                                     -0.026346                  \n",
              "Customer Age with Firm at time of launching the...                                           1.000000                  \n",
              " Churned at 3 months after launch of the online...                                          -0.058872                  \n",
              "Average Spend Last 3 months of Life with the firm                                           -0.019496                  \n",
              "m                                                                                           -0.019496                  \n",
              "r                                                                                            0.262070                  \n",
              "clv                                                                                          0.085733                  \n",
              "\n",
              "                                                     Churned at 3 months after launch of the online community  \\\n",
              "Customer ID                                                                                  0.083331           \n",
              "Joined?                                                                                      0.194862           \n",
              "Customer Age with Firm at time of launching the...                                          -0.058872           \n",
              " Churned at 3 months after launch of the online...                                           1.000000           \n",
              "Average Spend Last 3 months of Life with the firm                                            0.069539           \n",
              "m                                                                                            0.069539           \n",
              "r                                                                                           -0.204219           \n",
              "clv                                                                                         -0.007501           \n",
              "\n",
              "                                                    Average Spend Last 3 months of Life with the firm  \\\n",
              "Customer ID                                                                                 -0.066226   \n",
              "Joined?                                                                                      0.506416   \n",
              "Customer Age with Firm at time of launching the...                                          -0.019496   \n",
              " Churned at 3 months after launch of the online...                                           0.069539   \n",
              "Average Spend Last 3 months of Life with the firm                                            1.000000   \n",
              "m                                                                                            1.000000   \n",
              "r                                                                                           -0.341171   \n",
              "clv                                                                                          0.893906   \n",
              "\n",
              "                                                           m         r  \\\n",
              "Customer ID                                        -0.066226  0.055355   \n",
              "Joined?                                             0.506416 -0.956028   \n",
              "Customer Age with Firm at time of launching the... -0.019496  0.262070   \n",
              " Churned at 3 months after launch of the online...  0.069539 -0.204219   \n",
              "Average Spend Last 3 months of Life with the firm   1.000000 -0.341171   \n",
              "m                                                   1.000000 -0.341171   \n",
              "r                                                  -0.341171  1.000000   \n",
              "clv                                                 0.893906  0.092035   \n",
              "\n",
              "                                                         clv  \n",
              "Customer ID                                        -0.044380  \n",
              "Joined?                                             0.100803  \n",
              "Customer Age with Firm at time of launching the...  0.085733  \n",
              " Churned at 3 months after launch of the online... -0.007501  \n",
              "Average Spend Last 3 months of Life with the firm   0.893906  \n",
              "m                                                   0.893906  \n",
              "r                                                   0.092035  \n",
              "clv                                                 1.000000  "
            ],
            "text/html": [
              "\n",
              "  <div id=\"df-78a47418-9ce3-41ae-b727-e57ff9016dd7\">\n",
              "    <div class=\"colab-df-container\">\n",
              "      <div>\n",
              "<style scoped>\n",
              "    .dataframe tbody tr th:only-of-type {\n",
              "        vertical-align: middle;\n",
              "    }\n",
              "\n",
              "    .dataframe tbody tr th {\n",
              "        vertical-align: top;\n",
              "    }\n",
              "\n",
              "    .dataframe thead th {\n",
              "        text-align: right;\n",
              "    }\n",
              "</style>\n",
              "<table border=\"1\" class=\"dataframe\">\n",
              "  <thead>\n",
              "    <tr style=\"text-align: right;\">\n",
              "      <th></th>\n",
              "      <th>Customer ID</th>\n",
              "      <th>Joined?</th>\n",
              "      <th>Customer Age with Firm at time of launching the online community</th>\n",
              "      <th>Churned at 3 months after launch of the online community</th>\n",
              "      <th>Average Spend Last 3 months of Life with the firm</th>\n",
              "      <th>m</th>\n",
              "      <th>r</th>\n",
              "      <th>clv</th>\n",
              "    </tr>\n",
              "  </thead>\n",
              "  <tbody>\n",
              "    <tr>\n",
              "      <th>Customer ID</th>\n",
              "      <td>1.000000</td>\n",
              "      <td>-0.080153</td>\n",
              "      <td>-0.063062</td>\n",
              "      <td>0.083331</td>\n",
              "      <td>-0.066226</td>\n",
              "      <td>-0.066226</td>\n",
              "      <td>0.055355</td>\n",
              "      <td>-0.044380</td>\n",
              "    </tr>\n",
              "    <tr>\n",
              "      <th>Joined?</th>\n",
              "      <td>-0.080153</td>\n",
              "      <td>1.000000</td>\n",
              "      <td>-0.026346</td>\n",
              "      <td>0.194862</td>\n",
              "      <td>0.506416</td>\n",
              "      <td>0.506416</td>\n",
              "      <td>-0.956028</td>\n",
              "      <td>0.100803</td>\n",
              "    </tr>\n",
              "    <tr>\n",
              "      <th>Customer Age with Firm at time of launching the online community</th>\n",
              "      <td>-0.063062</td>\n",
              "      <td>-0.026346</td>\n",
              "      <td>1.000000</td>\n",
              "      <td>-0.058872</td>\n",
              "      <td>-0.019496</td>\n",
              "      <td>-0.019496</td>\n",
              "      <td>0.262070</td>\n",
              "      <td>0.085733</td>\n",
              "    </tr>\n",
              "    <tr>\n",
              "      <th>Churned at 3 months after launch of the online community</th>\n",
              "      <td>0.083331</td>\n",
              "      <td>0.194862</td>\n",
              "      <td>-0.058872</td>\n",
              "      <td>1.000000</td>\n",
              "      <td>0.069539</td>\n",
              "      <td>0.069539</td>\n",
              "      <td>-0.204219</td>\n",
              "      <td>-0.007501</td>\n",
              "    </tr>\n",
              "    <tr>\n",
              "      <th>Average Spend Last 3 months of Life with the firm</th>\n",
              "      <td>-0.066226</td>\n",
              "      <td>0.506416</td>\n",
              "      <td>-0.019496</td>\n",
              "      <td>0.069539</td>\n",
              "      <td>1.000000</td>\n",
              "      <td>1.000000</td>\n",
              "      <td>-0.341171</td>\n",
              "      <td>0.893906</td>\n",
              "    </tr>\n",
              "    <tr>\n",
              "      <th>m</th>\n",
              "      <td>-0.066226</td>\n",
              "      <td>0.506416</td>\n",
              "      <td>-0.019496</td>\n",
              "      <td>0.069539</td>\n",
              "      <td>1.000000</td>\n",
              "      <td>1.000000</td>\n",
              "      <td>-0.341171</td>\n",
              "      <td>0.893906</td>\n",
              "    </tr>\n",
              "    <tr>\n",
              "      <th>r</th>\n",
              "      <td>0.055355</td>\n",
              "      <td>-0.956028</td>\n",
              "      <td>0.262070</td>\n",
              "      <td>-0.204219</td>\n",
              "      <td>-0.341171</td>\n",
              "      <td>-0.341171</td>\n",
              "      <td>1.000000</td>\n",
              "      <td>0.092035</td>\n",
              "    </tr>\n",
              "    <tr>\n",
              "      <th>clv</th>\n",
              "      <td>-0.044380</td>\n",
              "      <td>0.100803</td>\n",
              "      <td>0.085733</td>\n",
              "      <td>-0.007501</td>\n",
              "      <td>0.893906</td>\n",
              "      <td>0.893906</td>\n",
              "      <td>0.092035</td>\n",
              "      <td>1.000000</td>\n",
              "    </tr>\n",
              "  </tbody>\n",
              "</table>\n",
              "</div>\n",
              "      <button class=\"colab-df-convert\" onclick=\"convertToInteractive('df-78a47418-9ce3-41ae-b727-e57ff9016dd7')\"\n",
              "              title=\"Convert this dataframe to an interactive table.\"\n",
              "              style=\"display:none;\">\n",
              "        \n",
              "  <svg xmlns=\"http://www.w3.org/2000/svg\" height=\"24px\"viewBox=\"0 0 24 24\"\n",
              "       width=\"24px\">\n",
              "    <path d=\"M0 0h24v24H0V0z\" fill=\"none\"/>\n",
              "    <path d=\"M18.56 5.44l.94 2.06.94-2.06 2.06-.94-2.06-.94-.94-2.06-.94 2.06-2.06.94zm-11 1L8.5 8.5l.94-2.06 2.06-.94-2.06-.94L8.5 2.5l-.94 2.06-2.06.94zm10 10l.94 2.06.94-2.06 2.06-.94-2.06-.94-.94-2.06-.94 2.06-2.06.94z\"/><path d=\"M17.41 7.96l-1.37-1.37c-.4-.4-.92-.59-1.43-.59-.52 0-1.04.2-1.43.59L10.3 9.45l-7.72 7.72c-.78.78-.78 2.05 0 2.83L4 21.41c.39.39.9.59 1.41.59.51 0 1.02-.2 1.41-.59l7.78-7.78 2.81-2.81c.8-.78.8-2.07 0-2.86zM5.41 20L4 18.59l7.72-7.72 1.47 1.35L5.41 20z\"/>\n",
              "  </svg>\n",
              "      </button>\n",
              "      \n",
              "  <style>\n",
              "    .colab-df-container {\n",
              "      display:flex;\n",
              "      flex-wrap:wrap;\n",
              "      gap: 12px;\n",
              "    }\n",
              "\n",
              "    .colab-df-convert {\n",
              "      background-color: #E8F0FE;\n",
              "      border: none;\n",
              "      border-radius: 50%;\n",
              "      cursor: pointer;\n",
              "      display: none;\n",
              "      fill: #1967D2;\n",
              "      height: 32px;\n",
              "      padding: 0 0 0 0;\n",
              "      width: 32px;\n",
              "    }\n",
              "\n",
              "    .colab-df-convert:hover {\n",
              "      background-color: #E2EBFA;\n",
              "      box-shadow: 0px 1px 2px rgba(60, 64, 67, 0.3), 0px 1px 3px 1px rgba(60, 64, 67, 0.15);\n",
              "      fill: #174EA6;\n",
              "    }\n",
              "\n",
              "    [theme=dark] .colab-df-convert {\n",
              "      background-color: #3B4455;\n",
              "      fill: #D2E3FC;\n",
              "    }\n",
              "\n",
              "    [theme=dark] .colab-df-convert:hover {\n",
              "      background-color: #434B5C;\n",
              "      box-shadow: 0px 1px 3px 1px rgba(0, 0, 0, 0.15);\n",
              "      filter: drop-shadow(0px 1px 2px rgba(0, 0, 0, 0.3));\n",
              "      fill: #FFFFFF;\n",
              "    }\n",
              "  </style>\n",
              "\n",
              "      <script>\n",
              "        const buttonEl =\n",
              "          document.querySelector('#df-78a47418-9ce3-41ae-b727-e57ff9016dd7 button.colab-df-convert');\n",
              "        buttonEl.style.display =\n",
              "          google.colab.kernel.accessAllowed ? 'block' : 'none';\n",
              "\n",
              "        async function convertToInteractive(key) {\n",
              "          const element = document.querySelector('#df-78a47418-9ce3-41ae-b727-e57ff9016dd7');\n",
              "          const dataTable =\n",
              "            await google.colab.kernel.invokeFunction('convertToInteractive',\n",
              "                                                     [key], {});\n",
              "          if (!dataTable) return;\n",
              "\n",
              "          const docLinkHtml = 'Like what you see? Visit the ' +\n",
              "            '<a target=\"_blank\" href=https://colab.research.google.com/notebooks/data_table.ipynb>data table notebook</a>'\n",
              "            + ' to learn more about interactive tables.';\n",
              "          element.innerHTML = '';\n",
              "          dataTable['output_type'] = 'display_data';\n",
              "          await google.colab.output.renderOutput(dataTable, element);\n",
              "          const docLink = document.createElement('div');\n",
              "          docLink.innerHTML = docLinkHtml;\n",
              "          element.appendChild(docLink);\n",
              "        }\n",
              "      </script>\n",
              "    </div>\n",
              "  </div>\n",
              "  "
            ]
          },
          "metadata": {},
          "execution_count": 32
        }
      ]
    },
    {
      "cell_type": "code",
      "execution_count": null,
      "metadata": {
        "colab": {
          "base_uri": "https://localhost:8080/",
          "height": 550
        },
        "id": "DTmcI3dYPlwG",
        "outputId": "c79dedc7-c59e-43aa-98ce-3001513e3cb9"
      },
      "outputs": [
        {
          "output_type": "stream",
          "name": "stderr",
          "text": [
            "/usr/local/lib/python3.7/dist-packages/statsmodels/tsa/tsatools.py:142: FutureWarning: In a future version of pandas all arguments of concat except for the argument 'objs' will be keyword-only\n",
            "  x = pd.concat(x[::order], 1)\n"
          ]
        },
        {
          "output_type": "execute_result",
          "data": {
            "text/plain": [
              "<class 'statsmodels.iolib.summary.Summary'>\n",
              "\"\"\"\n",
              "                            OLS Regression Results                            \n",
              "==============================================================================\n",
              "Dep. Variable:                    clv   R-squared:                       0.019\n",
              "Model:                            OLS   Adj. R-squared:                  0.003\n",
              "Method:                 Least Squares   F-statistic:                     1.225\n",
              "Date:                Fri, 11 Nov 2022   Prob (F-statistic):              0.302\n",
              "Time:                        07:20:13   Log-Likelihood:                -1133.5\n",
              "No. Observations:                 199   AIC:                             2275.\n",
              "Df Residuals:                     195   BIC:                             2288.\n",
              "Df Model:                           3                                         \n",
              "Covariance Type:            nonrobust                                         \n",
              "====================================================================================================================================\n",
              "                                                                       coef    std err          t      P>|t|      [0.025      0.975]\n",
              "------------------------------------------------------------------------------------------------------------------------------------\n",
              "const                                                              180.6766     13.849     13.046      0.000     153.363     207.990\n",
              "Joined?                                                             15.8976     10.683      1.488      0.138      -5.172      36.967\n",
              "Customer Age with Firm at time of launching the online community     3.0852      2.515      1.227      0.221      -1.875       8.045\n",
              " Churned at 3 months after launch of the online community           -3.4540     10.718     -0.322      0.748     -24.593      17.685\n",
              "==============================================================================\n",
              "Omnibus:                       37.154   Durbin-Watson:                   1.961\n",
              "Prob(Omnibus):                  0.000   Jarque-Bera (JB):                8.635\n",
              "Skew:                           0.004   Prob(JB):                       0.0133\n",
              "Kurtosis:                       1.980   Cond. No.                         14.1\n",
              "==============================================================================\n",
              "\n",
              "Notes:\n",
              "[1] Standard Errors assume that the covariance matrix of the errors is correctly specified.\n",
              "\"\"\""
            ],
            "text/html": [
              "<table class=\"simpletable\">\n",
              "<caption>OLS Regression Results</caption>\n",
              "<tr>\n",
              "  <th>Dep. Variable:</th>           <td>clv</td>       <th>  R-squared:         </th> <td>   0.019</td>\n",
              "</tr>\n",
              "<tr>\n",
              "  <th>Model:</th>                   <td>OLS</td>       <th>  Adj. R-squared:    </th> <td>   0.003</td>\n",
              "</tr>\n",
              "<tr>\n",
              "  <th>Method:</th>             <td>Least Squares</td>  <th>  F-statistic:       </th> <td>   1.225</td>\n",
              "</tr>\n",
              "<tr>\n",
              "  <th>Date:</th>             <td>Fri, 11 Nov 2022</td> <th>  Prob (F-statistic):</th>  <td> 0.302</td> \n",
              "</tr>\n",
              "<tr>\n",
              "  <th>Time:</th>                 <td>07:20:13</td>     <th>  Log-Likelihood:    </th> <td> -1133.5</td>\n",
              "</tr>\n",
              "<tr>\n",
              "  <th>No. Observations:</th>      <td>   199</td>      <th>  AIC:               </th> <td>   2275.</td>\n",
              "</tr>\n",
              "<tr>\n",
              "  <th>Df Residuals:</th>          <td>   195</td>      <th>  BIC:               </th> <td>   2288.</td>\n",
              "</tr>\n",
              "<tr>\n",
              "  <th>Df Model:</th>              <td>     3</td>      <th>                     </th>     <td> </td>   \n",
              "</tr>\n",
              "<tr>\n",
              "  <th>Covariance Type:</th>      <td>nonrobust</td>    <th>                     </th>     <td> </td>   \n",
              "</tr>\n",
              "</table>\n",
              "<table class=\"simpletable\">\n",
              "<tr>\n",
              "                                  <td></td>                                    <th>coef</th>     <th>std err</th>      <th>t</th>      <th>P>|t|</th>  <th>[0.025</th>    <th>0.975]</th>  \n",
              "</tr>\n",
              "<tr>\n",
              "  <th>const</th>                                                            <td>  180.6766</td> <td>   13.849</td> <td>   13.046</td> <td> 0.000</td> <td>  153.363</td> <td>  207.990</td>\n",
              "</tr>\n",
              "<tr>\n",
              "  <th>Joined?</th>                                                          <td>   15.8976</td> <td>   10.683</td> <td>    1.488</td> <td> 0.138</td> <td>   -5.172</td> <td>   36.967</td>\n",
              "</tr>\n",
              "<tr>\n",
              "  <th>Customer Age with Firm at time of launching the online community</th> <td>    3.0852</td> <td>    2.515</td> <td>    1.227</td> <td> 0.221</td> <td>   -1.875</td> <td>    8.045</td>\n",
              "</tr>\n",
              "<tr>\n",
              "  <th> Churned at 3 months after launch of the online community</th>        <td>   -3.4540</td> <td>   10.718</td> <td>   -0.322</td> <td> 0.748</td> <td>  -24.593</td> <td>   17.685</td>\n",
              "</tr>\n",
              "</table>\n",
              "<table class=\"simpletable\">\n",
              "<tr>\n",
              "  <th>Omnibus:</th>       <td>37.154</td> <th>  Durbin-Watson:     </th> <td>   1.961</td>\n",
              "</tr>\n",
              "<tr>\n",
              "  <th>Prob(Omnibus):</th> <td> 0.000</td> <th>  Jarque-Bera (JB):  </th> <td>   8.635</td>\n",
              "</tr>\n",
              "<tr>\n",
              "  <th>Skew:</th>          <td> 0.004</td> <th>  Prob(JB):          </th> <td>  0.0133</td>\n",
              "</tr>\n",
              "<tr>\n",
              "  <th>Kurtosis:</th>      <td> 1.980</td> <th>  Cond. No.          </th> <td>    14.1</td>\n",
              "</tr>\n",
              "</table><br/><br/>Notes:<br/>[1] Standard Errors assume that the covariance matrix of the errors is correctly specified."
            ]
          },
          "metadata": {},
          "execution_count": 34
        }
      ],
      "source": [
        "import statsmodels.api as sm\n",
        "x=churn_df_q3[['Joined?',\"Customer Age with Firm at time of launching the online community\",\n",
        "               ' Churned at 3 months after launch of the online community']]\n",
        "y=churn_df_q3['clv']\n",
        "x=sm.add_constant(x)\n",
        "log_churn2=sm.OLS(y, x).fit()\n",
        "log_churn2.summary()"
      ]
    },
    {
      "cell_type": "markdown",
      "metadata": {
        "id": "1XV64Pq3W7YR"
      },
      "source": [
        "coefficient interpretation: Participation in the community had no statistically significant affect on customer lifetime value"
      ]
    },
    {
      "cell_type": "markdown",
      "metadata": {
        "id": "SDszrv_5XS2l"
      },
      "source": [
        "# \n",
        "\n"
      ]
    },
    {
      "cell_type": "code",
      "execution_count": null,
      "metadata": {
        "id": "woDMOrdOV4qw"
      },
      "outputs": [],
      "source": [
        "campaign=pd.read_excel(\"/content/drive/MyDrive/Assignment3/Assignment3HW3_Data.xlsx\", 'Data 3')"
      ]
    },
    {
      "cell_type": "code",
      "execution_count": null,
      "metadata": {
        "id": "k3wrQ6tl-Vq5"
      },
      "outputs": [],
      "source": [
        "campaign['Average Spend Last 3 months of Life with the firm']=np.round(campaign['Average Spend Last 3 months of Life with the firm'])"
      ]
    },
    {
      "cell_type": "code",
      "execution_count": null,
      "metadata": {
        "colab": {
          "base_uri": "https://localhost:8080/"
        },
        "id": "-v9rmAAIXtuD",
        "outputId": "849b0b60-850e-46ac-9ce2-74f0e32b78bf"
      },
      "outputs": [
        {
          "output_type": "execute_result",
          "data": {
            "text/plain": [
              "Index(['Campaign/Organic', 'Customer ID', 'Month Before', 'Month After',\n",
              "       'Customer Age with Firm at time of launching the online community',\n",
              "       'Joined?', 'Churned at 3 months',\n",
              "       'Average Spend Last 3 months of Life with the firm'],\n",
              "      dtype='object')"
            ]
          },
          "metadata": {},
          "execution_count": 112
        }
      ],
      "source": [
        "campaign.columns"
      ]
    },
    {
      "cell_type": "code",
      "execution_count": null,
      "metadata": {
        "id": "rKTVZbSks7PR"
      },
      "outputs": [],
      "source": [
        "did2=campaign[[\"Month Before\", \"Month After\",\"Campaign/Organic\"]]"
      ]
    },
    {
      "cell_type": "code",
      "execution_count": null,
      "metadata": {
        "colab": {
          "base_uri": "https://localhost:8080/",
          "height": 143
        },
        "id": "uXaOIF2Hu8Yn",
        "outputId": "fa56c352-7638-4719-869c-4c26961692cf"
      },
      "outputs": [
        {
          "output_type": "execute_result",
          "data": {
            "text/plain": [
              "                  Month Before  Month After\n",
              "Campaign/Organic                           \n",
              "0                    75.320000   120.453333\n",
              "1                    79.129032   120.564516"
            ],
            "text/html": [
              "\n",
              "  <div id=\"df-f949d676-4e9d-482d-bc7c-5683a6375d2f\">\n",
              "    <div class=\"colab-df-container\">\n",
              "      <div>\n",
              "<style scoped>\n",
              "    .dataframe tbody tr th:only-of-type {\n",
              "        vertical-align: middle;\n",
              "    }\n",
              "\n",
              "    .dataframe tbody tr th {\n",
              "        vertical-align: top;\n",
              "    }\n",
              "\n",
              "    .dataframe thead th {\n",
              "        text-align: right;\n",
              "    }\n",
              "</style>\n",
              "<table border=\"1\" class=\"dataframe\">\n",
              "  <thead>\n",
              "    <tr style=\"text-align: right;\">\n",
              "      <th></th>\n",
              "      <th>Month Before</th>\n",
              "      <th>Month After</th>\n",
              "    </tr>\n",
              "    <tr>\n",
              "      <th>Campaign/Organic</th>\n",
              "      <th></th>\n",
              "      <th></th>\n",
              "    </tr>\n",
              "  </thead>\n",
              "  <tbody>\n",
              "    <tr>\n",
              "      <th>0</th>\n",
              "      <td>75.320000</td>\n",
              "      <td>120.453333</td>\n",
              "    </tr>\n",
              "    <tr>\n",
              "      <th>1</th>\n",
              "      <td>79.129032</td>\n",
              "      <td>120.564516</td>\n",
              "    </tr>\n",
              "  </tbody>\n",
              "</table>\n",
              "</div>\n",
              "      <button class=\"colab-df-convert\" onclick=\"convertToInteractive('df-f949d676-4e9d-482d-bc7c-5683a6375d2f')\"\n",
              "              title=\"Convert this dataframe to an interactive table.\"\n",
              "              style=\"display:none;\">\n",
              "        \n",
              "  <svg xmlns=\"http://www.w3.org/2000/svg\" height=\"24px\"viewBox=\"0 0 24 24\"\n",
              "       width=\"24px\">\n",
              "    <path d=\"M0 0h24v24H0V0z\" fill=\"none\"/>\n",
              "    <path d=\"M18.56 5.44l.94 2.06.94-2.06 2.06-.94-2.06-.94-.94-2.06-.94 2.06-2.06.94zm-11 1L8.5 8.5l.94-2.06 2.06-.94-2.06-.94L8.5 2.5l-.94 2.06-2.06.94zm10 10l.94 2.06.94-2.06 2.06-.94-2.06-.94-.94-2.06-.94 2.06-2.06.94z\"/><path d=\"M17.41 7.96l-1.37-1.37c-.4-.4-.92-.59-1.43-.59-.52 0-1.04.2-1.43.59L10.3 9.45l-7.72 7.72c-.78.78-.78 2.05 0 2.83L4 21.41c.39.39.9.59 1.41.59.51 0 1.02-.2 1.41-.59l7.78-7.78 2.81-2.81c.8-.78.8-2.07 0-2.86zM5.41 20L4 18.59l7.72-7.72 1.47 1.35L5.41 20z\"/>\n",
              "  </svg>\n",
              "      </button>\n",
              "      \n",
              "  <style>\n",
              "    .colab-df-container {\n",
              "      display:flex;\n",
              "      flex-wrap:wrap;\n",
              "      gap: 12px;\n",
              "    }\n",
              "\n",
              "    .colab-df-convert {\n",
              "      background-color: #E8F0FE;\n",
              "      border: none;\n",
              "      border-radius: 50%;\n",
              "      cursor: pointer;\n",
              "      display: none;\n",
              "      fill: #1967D2;\n",
              "      height: 32px;\n",
              "      padding: 0 0 0 0;\n",
              "      width: 32px;\n",
              "    }\n",
              "\n",
              "    .colab-df-convert:hover {\n",
              "      background-color: #E2EBFA;\n",
              "      box-shadow: 0px 1px 2px rgba(60, 64, 67, 0.3), 0px 1px 3px 1px rgba(60, 64, 67, 0.15);\n",
              "      fill: #174EA6;\n",
              "    }\n",
              "\n",
              "    [theme=dark] .colab-df-convert {\n",
              "      background-color: #3B4455;\n",
              "      fill: #D2E3FC;\n",
              "    }\n",
              "\n",
              "    [theme=dark] .colab-df-convert:hover {\n",
              "      background-color: #434B5C;\n",
              "      box-shadow: 0px 1px 3px 1px rgba(0, 0, 0, 0.15);\n",
              "      filter: drop-shadow(0px 1px 2px rgba(0, 0, 0, 0.3));\n",
              "      fill: #FFFFFF;\n",
              "    }\n",
              "  </style>\n",
              "\n",
              "      <script>\n",
              "        const buttonEl =\n",
              "          document.querySelector('#df-f949d676-4e9d-482d-bc7c-5683a6375d2f button.colab-df-convert');\n",
              "        buttonEl.style.display =\n",
              "          google.colab.kernel.accessAllowed ? 'block' : 'none';\n",
              "\n",
              "        async function convertToInteractive(key) {\n",
              "          const element = document.querySelector('#df-f949d676-4e9d-482d-bc7c-5683a6375d2f');\n",
              "          const dataTable =\n",
              "            await google.colab.kernel.invokeFunction('convertToInteractive',\n",
              "                                                     [key], {});\n",
              "          if (!dataTable) return;\n",
              "\n",
              "          const docLinkHtml = 'Like what you see? Visit the ' +\n",
              "            '<a target=\"_blank\" href=https://colab.research.google.com/notebooks/data_table.ipynb>data table notebook</a>'\n",
              "            + ' to learn more about interactive tables.';\n",
              "          element.innerHTML = '';\n",
              "          dataTable['output_type'] = 'display_data';\n",
              "          await google.colab.output.renderOutput(dataTable, element);\n",
              "          const docLink = document.createElement('div');\n",
              "          docLink.innerHTML = docLinkHtml;\n",
              "          element.appendChild(docLink);\n",
              "        }\n",
              "      </script>\n",
              "    </div>\n",
              "  </div>\n",
              "  "
            ]
          },
          "metadata": {},
          "execution_count": 114
        }
      ],
      "source": [
        "did2.groupby(\"Campaign/Organic\").mean()"
      ]
    },
    {
      "cell_type": "code",
      "execution_count": null,
      "metadata": {
        "id": "jJw9I5Tc-uwO"
      },
      "outputs": [],
      "source": [
        "did2=campaign[campaign[\"Campaign/Organic\"]==1]"
      ]
    },
    {
      "cell_type": "code",
      "execution_count": null,
      "metadata": {
        "colab": {
          "base_uri": "https://localhost:8080/",
          "height": 112
        },
        "id": "eEbOEZIDS411",
        "outputId": "037f32ff-9c03-41bd-f00c-e03e8c6efa89"
      },
      "outputs": [
        {
          "output_type": "execute_result",
          "data": {
            "text/plain": [
              "                  Month Before  Month After\n",
              "Campaign/Organic                           \n",
              "1                    79.129032   120.564516"
            ],
            "text/html": [
              "\n",
              "  <div id=\"df-851483b5-6cd5-4160-b074-9176fd1a6d81\">\n",
              "    <div class=\"colab-df-container\">\n",
              "      <div>\n",
              "<style scoped>\n",
              "    .dataframe tbody tr th:only-of-type {\n",
              "        vertical-align: middle;\n",
              "    }\n",
              "\n",
              "    .dataframe tbody tr th {\n",
              "        vertical-align: top;\n",
              "    }\n",
              "\n",
              "    .dataframe thead th {\n",
              "        text-align: right;\n",
              "    }\n",
              "</style>\n",
              "<table border=\"1\" class=\"dataframe\">\n",
              "  <thead>\n",
              "    <tr style=\"text-align: right;\">\n",
              "      <th></th>\n",
              "      <th>Month Before</th>\n",
              "      <th>Month After</th>\n",
              "    </tr>\n",
              "    <tr>\n",
              "      <th>Campaign/Organic</th>\n",
              "      <th></th>\n",
              "      <th></th>\n",
              "    </tr>\n",
              "  </thead>\n",
              "  <tbody>\n",
              "    <tr>\n",
              "      <th>1</th>\n",
              "      <td>79.129032</td>\n",
              "      <td>120.564516</td>\n",
              "    </tr>\n",
              "  </tbody>\n",
              "</table>\n",
              "</div>\n",
              "      <button class=\"colab-df-convert\" onclick=\"convertToInteractive('df-851483b5-6cd5-4160-b074-9176fd1a6d81')\"\n",
              "              title=\"Convert this dataframe to an interactive table.\"\n",
              "              style=\"display:none;\">\n",
              "        \n",
              "  <svg xmlns=\"http://www.w3.org/2000/svg\" height=\"24px\"viewBox=\"0 0 24 24\"\n",
              "       width=\"24px\">\n",
              "    <path d=\"M0 0h24v24H0V0z\" fill=\"none\"/>\n",
              "    <path d=\"M18.56 5.44l.94 2.06.94-2.06 2.06-.94-2.06-.94-.94-2.06-.94 2.06-2.06.94zm-11 1L8.5 8.5l.94-2.06 2.06-.94-2.06-.94L8.5 2.5l-.94 2.06-2.06.94zm10 10l.94 2.06.94-2.06 2.06-.94-2.06-.94-.94-2.06-.94 2.06-2.06.94z\"/><path d=\"M17.41 7.96l-1.37-1.37c-.4-.4-.92-.59-1.43-.59-.52 0-1.04.2-1.43.59L10.3 9.45l-7.72 7.72c-.78.78-.78 2.05 0 2.83L4 21.41c.39.39.9.59 1.41.59.51 0 1.02-.2 1.41-.59l7.78-7.78 2.81-2.81c.8-.78.8-2.07 0-2.86zM5.41 20L4 18.59l7.72-7.72 1.47 1.35L5.41 20z\"/>\n",
              "  </svg>\n",
              "      </button>\n",
              "      \n",
              "  <style>\n",
              "    .colab-df-container {\n",
              "      display:flex;\n",
              "      flex-wrap:wrap;\n",
              "      gap: 12px;\n",
              "    }\n",
              "\n",
              "    .colab-df-convert {\n",
              "      background-color: #E8F0FE;\n",
              "      border: none;\n",
              "      border-radius: 50%;\n",
              "      cursor: pointer;\n",
              "      display: none;\n",
              "      fill: #1967D2;\n",
              "      height: 32px;\n",
              "      padding: 0 0 0 0;\n",
              "      width: 32px;\n",
              "    }\n",
              "\n",
              "    .colab-df-convert:hover {\n",
              "      background-color: #E2EBFA;\n",
              "      box-shadow: 0px 1px 2px rgba(60, 64, 67, 0.3), 0px 1px 3px 1px rgba(60, 64, 67, 0.15);\n",
              "      fill: #174EA6;\n",
              "    }\n",
              "\n",
              "    [theme=dark] .colab-df-convert {\n",
              "      background-color: #3B4455;\n",
              "      fill: #D2E3FC;\n",
              "    }\n",
              "\n",
              "    [theme=dark] .colab-df-convert:hover {\n",
              "      background-color: #434B5C;\n",
              "      box-shadow: 0px 1px 3px 1px rgba(0, 0, 0, 0.15);\n",
              "      filter: drop-shadow(0px 1px 2px rgba(0, 0, 0, 0.3));\n",
              "      fill: #FFFFFF;\n",
              "    }\n",
              "  </style>\n",
              "\n",
              "      <script>\n",
              "        const buttonEl =\n",
              "          document.querySelector('#df-851483b5-6cd5-4160-b074-9176fd1a6d81 button.colab-df-convert');\n",
              "        buttonEl.style.display =\n",
              "          google.colab.kernel.accessAllowed ? 'block' : 'none';\n",
              "\n",
              "        async function convertToInteractive(key) {\n",
              "          const element = document.querySelector('#df-851483b5-6cd5-4160-b074-9176fd1a6d81');\n",
              "          const dataTable =\n",
              "            await google.colab.kernel.invokeFunction('convertToInteractive',\n",
              "                                                     [key], {});\n",
              "          if (!dataTable) return;\n",
              "\n",
              "          const docLinkHtml = 'Like what you see? Visit the ' +\n",
              "            '<a target=\"_blank\" href=https://colab.research.google.com/notebooks/data_table.ipynb>data table notebook</a>'\n",
              "            + ' to learn more about interactive tables.';\n",
              "          element.innerHTML = '';\n",
              "          dataTable['output_type'] = 'display_data';\n",
              "          await google.colab.output.renderOutput(dataTable, element);\n",
              "          const docLink = document.createElement('div');\n",
              "          docLink.innerHTML = docLinkHtml;\n",
              "          element.appendChild(docLink);\n",
              "        }\n",
              "      </script>\n",
              "    </div>\n",
              "  </div>\n",
              "  "
            ]
          },
          "metadata": {},
          "execution_count": 116
        }
      ],
      "source": [
        "did2.groupby(\"Campaign/Organic\")[['Month Before','Month After']].mean()"
      ]
    },
    {
      "cell_type": "code",
      "execution_count": null,
      "metadata": {
        "colab": {
          "base_uri": "https://localhost:8080/"
        },
        "id": "E7rQW3AYZSbs",
        "outputId": "ed5d819c-62ec-4987-ce29-9d71aa1d150b"
      },
      "outputs": [
        {
          "output_type": "stream",
          "name": "stderr",
          "text": [
            "/usr/local/lib/python3.7/dist-packages/ipykernel_launcher.py:3: SettingWithCopyWarning: \n",
            "A value is trying to be set on a copy of a slice from a DataFrame.\n",
            "Try using .loc[row_indexer,col_indexer] = value instead\n",
            "\n",
            "See the caveats in the documentation: https://pandas.pydata.org/pandas-docs/stable/user_guide/indexing.html#returning-a-view-versus-a-copy\n",
            "  This is separate from the ipykernel package so we can avoid doing imports until\n",
            "/usr/local/lib/python3.7/dist-packages/ipykernel_launcher.py:7: SettingWithCopyWarning: \n",
            "A value is trying to be set on a copy of a slice from a DataFrame.\n",
            "Try using .loc[row_indexer,col_indexer] = value instead\n",
            "\n",
            "See the caveats in the documentation: https://pandas.pydata.org/pandas-docs/stable/user_guide/indexing.html#returning-a-view-versus-a-copy\n",
            "  import sys\n"
          ]
        }
      ],
      "source": [
        "import statsmodels.api as sm\n",
        "df_before=did2[[\"Month Before\",\"Joined?\"]]\n",
        "df_before['t']=0\n",
        "df_before.columns=[[\"total_rev\",\"g\",\"t\"]]\n",
        "\n",
        "df_after=did2[[\"Month After\", \"Joined?\"]]\n",
        "df_after['t']=1\n",
        "df_after.columns=[[\"total_rev\", \"g\", \"t\"]]\n",
        "\n",
        "df_did=pd.concat([df_before, df_after])"
      ]
    },
    {
      "cell_type": "code",
      "execution_count": null,
      "metadata": {
        "id": "nRhp5JpQCE6n"
      },
      "outputs": [],
      "source": [
        "df_did['gt']=df_did['t'].values*df_did['g'].values"
      ]
    },
    {
      "cell_type": "code",
      "execution_count": null,
      "metadata": {
        "colab": {
          "base_uri": "https://localhost:8080/",
          "height": 206
        },
        "id": "P9zhrNzkCeXb",
        "outputId": "fa631b4a-8f18-4de7-cfa5-38393d7567a0"
      },
      "outputs": [
        {
          "output_type": "execute_result",
          "data": {
            "text/plain": [
              "   total_rev  g  t gt\n",
              "5         37  1  0  0\n",
              "6         78  1  0  0\n",
              "8        119  0  0  0\n",
              "9         28  1  0  0\n",
              "10        63  0  0  0"
            ],
            "text/html": [
              "\n",
              "  <div id=\"df-6bf4ef17-ca25-4439-9051-933b6e4c2c4b\">\n",
              "    <div class=\"colab-df-container\">\n",
              "      <div>\n",
              "<style scoped>\n",
              "    .dataframe tbody tr th:only-of-type {\n",
              "        vertical-align: middle;\n",
              "    }\n",
              "\n",
              "    .dataframe tbody tr th {\n",
              "        vertical-align: top;\n",
              "    }\n",
              "\n",
              "    .dataframe thead tr th {\n",
              "        text-align: left;\n",
              "    }\n",
              "</style>\n",
              "<table border=\"1\" class=\"dataframe\">\n",
              "  <thead>\n",
              "    <tr>\n",
              "      <th></th>\n",
              "      <th>total_rev</th>\n",
              "      <th>g</th>\n",
              "      <th>t</th>\n",
              "      <th>gt</th>\n",
              "    </tr>\n",
              "  </thead>\n",
              "  <tbody>\n",
              "    <tr>\n",
              "      <th>5</th>\n",
              "      <td>37</td>\n",
              "      <td>1</td>\n",
              "      <td>0</td>\n",
              "      <td>0</td>\n",
              "    </tr>\n",
              "    <tr>\n",
              "      <th>6</th>\n",
              "      <td>78</td>\n",
              "      <td>1</td>\n",
              "      <td>0</td>\n",
              "      <td>0</td>\n",
              "    </tr>\n",
              "    <tr>\n",
              "      <th>8</th>\n",
              "      <td>119</td>\n",
              "      <td>0</td>\n",
              "      <td>0</td>\n",
              "      <td>0</td>\n",
              "    </tr>\n",
              "    <tr>\n",
              "      <th>9</th>\n",
              "      <td>28</td>\n",
              "      <td>1</td>\n",
              "      <td>0</td>\n",
              "      <td>0</td>\n",
              "    </tr>\n",
              "    <tr>\n",
              "      <th>10</th>\n",
              "      <td>63</td>\n",
              "      <td>0</td>\n",
              "      <td>0</td>\n",
              "      <td>0</td>\n",
              "    </tr>\n",
              "  </tbody>\n",
              "</table>\n",
              "</div>\n",
              "      <button class=\"colab-df-convert\" onclick=\"convertToInteractive('df-6bf4ef17-ca25-4439-9051-933b6e4c2c4b')\"\n",
              "              title=\"Convert this dataframe to an interactive table.\"\n",
              "              style=\"display:none;\">\n",
              "        \n",
              "  <svg xmlns=\"http://www.w3.org/2000/svg\" height=\"24px\"viewBox=\"0 0 24 24\"\n",
              "       width=\"24px\">\n",
              "    <path d=\"M0 0h24v24H0V0z\" fill=\"none\"/>\n",
              "    <path d=\"M18.56 5.44l.94 2.06.94-2.06 2.06-.94-2.06-.94-.94-2.06-.94 2.06-2.06.94zm-11 1L8.5 8.5l.94-2.06 2.06-.94-2.06-.94L8.5 2.5l-.94 2.06-2.06.94zm10 10l.94 2.06.94-2.06 2.06-.94-2.06-.94-.94-2.06-.94 2.06-2.06.94z\"/><path d=\"M17.41 7.96l-1.37-1.37c-.4-.4-.92-.59-1.43-.59-.52 0-1.04.2-1.43.59L10.3 9.45l-7.72 7.72c-.78.78-.78 2.05 0 2.83L4 21.41c.39.39.9.59 1.41.59.51 0 1.02-.2 1.41-.59l7.78-7.78 2.81-2.81c.8-.78.8-2.07 0-2.86zM5.41 20L4 18.59l7.72-7.72 1.47 1.35L5.41 20z\"/>\n",
              "  </svg>\n",
              "      </button>\n",
              "      \n",
              "  <style>\n",
              "    .colab-df-container {\n",
              "      display:flex;\n",
              "      flex-wrap:wrap;\n",
              "      gap: 12px;\n",
              "    }\n",
              "\n",
              "    .colab-df-convert {\n",
              "      background-color: #E8F0FE;\n",
              "      border: none;\n",
              "      border-radius: 50%;\n",
              "      cursor: pointer;\n",
              "      display: none;\n",
              "      fill: #1967D2;\n",
              "      height: 32px;\n",
              "      padding: 0 0 0 0;\n",
              "      width: 32px;\n",
              "    }\n",
              "\n",
              "    .colab-df-convert:hover {\n",
              "      background-color: #E2EBFA;\n",
              "      box-shadow: 0px 1px 2px rgba(60, 64, 67, 0.3), 0px 1px 3px 1px rgba(60, 64, 67, 0.15);\n",
              "      fill: #174EA6;\n",
              "    }\n",
              "\n",
              "    [theme=dark] .colab-df-convert {\n",
              "      background-color: #3B4455;\n",
              "      fill: #D2E3FC;\n",
              "    }\n",
              "\n",
              "    [theme=dark] .colab-df-convert:hover {\n",
              "      background-color: #434B5C;\n",
              "      box-shadow: 0px 1px 3px 1px rgba(0, 0, 0, 0.15);\n",
              "      filter: drop-shadow(0px 1px 2px rgba(0, 0, 0, 0.3));\n",
              "      fill: #FFFFFF;\n",
              "    }\n",
              "  </style>\n",
              "\n",
              "      <script>\n",
              "        const buttonEl =\n",
              "          document.querySelector('#df-6bf4ef17-ca25-4439-9051-933b6e4c2c4b button.colab-df-convert');\n",
              "        buttonEl.style.display =\n",
              "          google.colab.kernel.accessAllowed ? 'block' : 'none';\n",
              "\n",
              "        async function convertToInteractive(key) {\n",
              "          const element = document.querySelector('#df-6bf4ef17-ca25-4439-9051-933b6e4c2c4b');\n",
              "          const dataTable =\n",
              "            await google.colab.kernel.invokeFunction('convertToInteractive',\n",
              "                                                     [key], {});\n",
              "          if (!dataTable) return;\n",
              "\n",
              "          const docLinkHtml = 'Like what you see? Visit the ' +\n",
              "            '<a target=\"_blank\" href=https://colab.research.google.com/notebooks/data_table.ipynb>data table notebook</a>'\n",
              "            + ' to learn more about interactive tables.';\n",
              "          element.innerHTML = '';\n",
              "          dataTable['output_type'] = 'display_data';\n",
              "          await google.colab.output.renderOutput(dataTable, element);\n",
              "          const docLink = document.createElement('div');\n",
              "          docLink.innerHTML = docLinkHtml;\n",
              "          element.appendChild(docLink);\n",
              "        }\n",
              "      </script>\n",
              "    </div>\n",
              "  </div>\n",
              "  "
            ]
          },
          "metadata": {},
          "execution_count": 119
        }
      ],
      "source": [
        "df_did.head()"
      ]
    },
    {
      "cell_type": "code",
      "execution_count": null,
      "metadata": {
        "colab": {
          "base_uri": "https://localhost:8080/"
        },
        "id": "ZozVC2ySCGuy",
        "outputId": "e07b19da-01f7-4866-8739-e5a5991208fc"
      },
      "outputs": [
        {
          "output_type": "stream",
          "name": "stdout",
          "text": [
            "                            OLS Regression Results                            \n",
            "==============================================================================\n",
            "Dep. Variable:              total_rev   R-squared:                       0.333\n",
            "Model:                            OLS   Adj. R-squared:                  0.325\n",
            "Method:                 Least Squares   F-statistic:                     40.65\n",
            "Date:                Wed, 09 Nov 2022   Prob (F-statistic):           2.44e-21\n",
            "Time:                        05:34:54   Log-Likelihood:                -1255.1\n",
            "No. Observations:                 248   AIC:                             2518.\n",
            "Df Residuals:                     244   BIC:                             2532.\n",
            "Df Model:                           3                                         \n",
            "Covariance Type:            nonrobust                                         \n",
            "==============================================================================\n",
            "                 coef    std err          t      P>|t|      [0.025      0.975]\n",
            "------------------------------------------------------------------------------\n",
            "Intercept     71.5333      4.442     16.103      0.000      62.783      80.284\n",
            "g             19.2218      7.067      2.720      0.007       5.302      33.141\n",
            "t             30.8000      6.282      4.903      0.000      18.425      43.175\n",
            "gt            26.9143      9.994      2.693      0.008       7.229      46.600\n",
            "==============================================================================\n",
            "Omnibus:                      171.581   Durbin-Watson:                   2.027\n",
            "Prob(Omnibus):                  0.000   Jarque-Bera (JB):               16.965\n",
            "Skew:                          -0.143   Prob(JB):                     0.000207\n",
            "Kurtosis:                       1.751   Cond. No.                         6.40\n",
            "==============================================================================\n",
            "\n",
            "Notes:\n",
            "[1] Standard Errors assume that the covariance matrix of the errors is correctly specified.\n"
          ]
        }
      ],
      "source": [
        "x=df_did[['g','t','gt']]\n",
        "y=df_did['total_rev']\n",
        "x=sm.add_constant\n",
        "from statsmodels.formula.api import ols\n",
        "ols = ols('total_rev ~ g + t + gt', data=df_did).fit()\n",
        "print(ols.summary())"
      ]
    },
    {
      "cell_type": "code",
      "source": [
        "did3=campaign[campaign[\"Campaign/Organic\"]==0]\n",
        "df_before=did3[[\"Month Before\",\"Joined?\"]]\n",
        "df_before['t']=0\n",
        "df_before.columns=[[\"total_rev\",\"g\",\"t\"]]\n",
        "\n",
        "df_after=did3[[\"Month After\", \"Joined?\"]]\n",
        "df_after['t']=1\n",
        "df_after.columns=[[\"total_rev\", \"g\", \"t\"]]\n",
        "\n",
        "df_did=pd.concat([df_before, df_after])\n",
        "\n",
        "df_did['gt']=df_did['t'].values*df_did['g'].values\n",
        "\n",
        "x=df_did[['g','t','gt']]\n",
        "y=df_did['total_rev']\n",
        "x=sm.add_constant\n",
        "from statsmodels.formula.api import ols\n",
        "ols = ols('total_rev ~ g + t + gt', data=df_did).fit()\n",
        "print(ols.summary())"
      ],
      "metadata": {
        "colab": {
          "base_uri": "https://localhost:8080/"
        },
        "id": "plsokC5ATPqf",
        "outputId": "c729e1c7-6b09-425e-9dbe-000178fb72f9"
      },
      "execution_count": null,
      "outputs": [
        {
          "output_type": "stream",
          "name": "stdout",
          "text": [
            "                            OLS Regression Results                            \n",
            "==============================================================================\n",
            "Dep. Variable:              total_rev   R-squared:                       0.356\n",
            "Model:                            OLS   Adj. R-squared:                  0.343\n",
            "Method:                 Least Squares   F-statistic:                     26.88\n",
            "Date:                Wed, 09 Nov 2022   Prob (F-statistic):           6.70e-14\n",
            "Time:                        05:34:59   Log-Likelihood:                -761.02\n",
            "No. Observations:                 150   AIC:                             1530.\n",
            "Df Residuals:                     146   BIC:                             1542.\n",
            "Df Model:                           3                                         \n",
            "Covariance Type:            nonrobust                                         \n",
            "==============================================================================\n",
            "                 coef    std err          t      P>|t|      [0.025      0.975]\n",
            "------------------------------------------------------------------------------\n",
            "Intercept     68.3095      6.045     11.300      0.000      56.363      80.256\n",
            "g             15.9329      9.113      1.748      0.083      -2.078      33.944\n",
            "t             31.0000      8.549      3.626      0.000      14.105      47.895\n",
            "gt            32.1212     12.888      2.492      0.014       6.650      57.592\n",
            "==============================================================================\n",
            "Omnibus:                       96.658   Durbin-Watson:                   2.399\n",
            "Prob(Omnibus):                  0.000   Jarque-Bera (JB):               10.455\n",
            "Skew:                           0.086   Prob(JB):                      0.00537\n",
            "Kurtosis:                       1.718   Cond. No.                         6.55\n",
            "==============================================================================\n",
            "\n",
            "Notes:\n",
            "[1] Standard Errors assume that the covariance matrix of the errors is correctly specified.\n"
          ]
        },
        {
          "output_type": "stream",
          "name": "stderr",
          "text": [
            "/usr/local/lib/python3.7/dist-packages/ipykernel_launcher.py:4: SettingWithCopyWarning: \n",
            "A value is trying to be set on a copy of a slice from a DataFrame.\n",
            "Try using .loc[row_indexer,col_indexer] = value instead\n",
            "\n",
            "See the caveats in the documentation: https://pandas.pydata.org/pandas-docs/stable/user_guide/indexing.html#returning-a-view-versus-a-copy\n",
            "  after removing the cwd from sys.path.\n",
            "/usr/local/lib/python3.7/dist-packages/ipykernel_launcher.py:8: SettingWithCopyWarning: \n",
            "A value is trying to be set on a copy of a slice from a DataFrame.\n",
            "Try using .loc[row_indexer,col_indexer] = value instead\n",
            "\n",
            "See the caveats in the documentation: https://pandas.pydata.org/pandas-docs/stable/user_guide/indexing.html#returning-a-view-versus-a-copy\n",
            "  \n"
          ]
        }
      ]
    },
    {
      "cell_type": "code",
      "execution_count": null,
      "metadata": {
        "colab": {
          "base_uri": "https://localhost:8080/",
          "height": 550
        },
        "id": "PebHT_MU_gPA",
        "outputId": "16a244e6-d9ef-422e-8176-a04a801d196d"
      },
      "outputs": [
        {
          "output_type": "stream",
          "name": "stderr",
          "text": [
            "/usr/local/lib/python3.7/dist-packages/statsmodels/tsa/tsatools.py:142: FutureWarning: In a future version of pandas all arguments of concat except for the argument 'objs' will be keyword-only\n",
            "  x = pd.concat(x[::order], 1)\n"
          ]
        },
        {
          "output_type": "execute_result",
          "data": {
            "text/plain": [
              "<class 'statsmodels.iolib.summary.Summary'>\n",
              "\"\"\"\n",
              "                                            OLS Regression Results                                           \n",
              "=============================================================================================================\n",
              "Dep. Variable:     Average Spend Last 3 months of Life with the firm   R-squared:                       0.008\n",
              "Model:                                                           OLS   Adj. R-squared:                 -0.007\n",
              "Method:                                                Least Squares   F-statistic:                    0.5145\n",
              "Date:                                               Wed, 09 Nov 2022   Prob (F-statistic):              0.673\n",
              "Time:                                                       03:24:15   Log-Likelihood:                -960.33\n",
              "No. Observations:                                                199   AIC:                             1929.\n",
              "Df Residuals:                                                    195   BIC:                             1942.\n",
              "Df Model:                                                          3                                         \n",
              "Covariance Type:                                           nonrobust                                         \n",
              "====================================================================================================================================\n",
              "                                                                       coef    std err          t      P>|t|      [0.025      0.975]\n",
              "------------------------------------------------------------------------------------------------------------------------------------\n",
              "const                                                               81.2238      6.251     12.995      0.000      68.897      93.551\n",
              "Customer Age with Firm at time of launching the online community    -0.8124      1.075     -0.756      0.451      -2.932       1.307\n",
              "Churned at 3 months                                                  4.1558      4.406      0.943      0.347      -4.534      12.846\n",
              "Campaign/Organic                                                    -0.0146      4.461     -0.003      0.997      -8.812       8.783\n",
              "==============================================================================\n",
              "Omnibus:                       14.012   Durbin-Watson:                   2.010\n",
              "Prob(Omnibus):                  0.001   Jarque-Bera (JB):                5.393\n",
              "Skew:                          -0.029   Prob(JB):                       0.0674\n",
              "Kurtosis:                       2.196   Cond. No.                         15.3\n",
              "==============================================================================\n",
              "\n",
              "Notes:\n",
              "[1] Standard Errors assume that the covariance matrix of the errors is correctly specified.\n",
              "\"\"\""
            ],
            "text/html": [
              "<table class=\"simpletable\">\n",
              "<caption>OLS Regression Results</caption>\n",
              "<tr>\n",
              "  <th>Dep. Variable:</th>    <td>Average Spend Last 3 months of Life with the firm</td> <th>  R-squared:         </th> <td>   0.008</td>\n",
              "</tr>\n",
              "<tr>\n",
              "  <th>Model:</th>                                   <td>OLS</td>                        <th>  Adj. R-squared:    </th> <td>  -0.007</td>\n",
              "</tr>\n",
              "<tr>\n",
              "  <th>Method:</th>                             <td>Least Squares</td>                   <th>  F-statistic:       </th> <td>  0.5145</td>\n",
              "</tr>\n",
              "<tr>\n",
              "  <th>Date:</th>                             <td>Wed, 09 Nov 2022</td>                  <th>  Prob (F-statistic):</th>  <td> 0.673</td> \n",
              "</tr>\n",
              "<tr>\n",
              "  <th>Time:</th>                                 <td>03:24:15</td>                      <th>  Log-Likelihood:    </th> <td> -960.33</td>\n",
              "</tr>\n",
              "<tr>\n",
              "  <th>No. Observations:</th>                      <td>   199</td>                       <th>  AIC:               </th> <td>   1929.</td>\n",
              "</tr>\n",
              "<tr>\n",
              "  <th>Df Residuals:</th>                          <td>   195</td>                       <th>  BIC:               </th> <td>   1942.</td>\n",
              "</tr>\n",
              "<tr>\n",
              "  <th>Df Model:</th>                              <td>     3</td>                       <th>                     </th>     <td> </td>   \n",
              "</tr>\n",
              "<tr>\n",
              "  <th>Covariance Type:</th>                      <td>nonrobust</td>                     <th>                     </th>     <td> </td>   \n",
              "</tr>\n",
              "</table>\n",
              "<table class=\"simpletable\">\n",
              "<tr>\n",
              "                                  <td></td>                                    <th>coef</th>     <th>std err</th>      <th>t</th>      <th>P>|t|</th>  <th>[0.025</th>    <th>0.975]</th>  \n",
              "</tr>\n",
              "<tr>\n",
              "  <th>const</th>                                                            <td>   81.2238</td> <td>    6.251</td> <td>   12.995</td> <td> 0.000</td> <td>   68.897</td> <td>   93.551</td>\n",
              "</tr>\n",
              "<tr>\n",
              "  <th>Customer Age with Firm at time of launching the online community</th> <td>   -0.8124</td> <td>    1.075</td> <td>   -0.756</td> <td> 0.451</td> <td>   -2.932</td> <td>    1.307</td>\n",
              "</tr>\n",
              "<tr>\n",
              "  <th>Churned at 3 months</th>                                              <td>    4.1558</td> <td>    4.406</td> <td>    0.943</td> <td> 0.347</td> <td>   -4.534</td> <td>   12.846</td>\n",
              "</tr>\n",
              "<tr>\n",
              "  <th>Campaign/Organic</th>                                                 <td>   -0.0146</td> <td>    4.461</td> <td>   -0.003</td> <td> 0.997</td> <td>   -8.812</td> <td>    8.783</td>\n",
              "</tr>\n",
              "</table>\n",
              "<table class=\"simpletable\">\n",
              "<tr>\n",
              "  <th>Omnibus:</th>       <td>14.012</td> <th>  Durbin-Watson:     </th> <td>   2.010</td>\n",
              "</tr>\n",
              "<tr>\n",
              "  <th>Prob(Omnibus):</th> <td> 0.001</td> <th>  Jarque-Bera (JB):  </th> <td>   5.393</td>\n",
              "</tr>\n",
              "<tr>\n",
              "  <th>Skew:</th>          <td>-0.029</td> <th>  Prob(JB):          </th> <td>  0.0674</td>\n",
              "</tr>\n",
              "<tr>\n",
              "  <th>Kurtosis:</th>      <td> 2.196</td> <th>  Cond. No.          </th> <td>    15.3</td>\n",
              "</tr>\n",
              "</table><br/><br/>Notes:<br/>[1] Standard Errors assume that the covariance matrix of the errors is correctly specified."
            ]
          },
          "metadata": {},
          "execution_count": 81
        }
      ],
      "source": [
        "x=campaign[[\"Customer Age with Firm at time of launching the online community\",\n",
        "            \"Churned at 3 months\",\n",
        "            \"Campaign/Organic\"]]\n",
        "y=campaign['Average Spend Last 3 months of Life with the firm']\n",
        "x=sm.add_constant(x)\n",
        "ols2=sm.OLS(y,x).fit()\n",
        "ols2.summary()"
      ]
    },
    {
      "cell_type": "code",
      "source": [
        "pip install pysal"
      ],
      "metadata": {
        "colab": {
          "base_uri": "https://localhost:8080/"
        },
        "id": "Tazg0myUbtOT",
        "outputId": "fadddcb1-6ca0-4b26-87bd-ee551daef5fb"
      },
      "execution_count": null,
      "outputs": [
        {
          "output_type": "stream",
          "name": "stdout",
          "text": [
            "Looking in indexes: https://pypi.org/simple, https://us-python.pkg.dev/colab-wheels/public/simple/\n",
            "Collecting pysal\n",
            "  Downloading pysal-2.7.0-py3-none-any.whl (17 kB)\n",
            "Collecting mapclassify>=2.4.3\n",
            "  Downloading mapclassify-2.4.3-py3-none-any.whl (38 kB)\n",
            "Collecting pointpats>=2.2.0\n",
            "  Downloading pointpats-2.2.0.tar.gz (55 kB)\n",
            "\u001b[K     |████████████████████████████████| 55 kB 4.4 MB/s \n",
            "\u001b[?25hCollecting spvcm>=0.3.0\n",
            "  Downloading spvcm-0.3.0.tar.gz (5.7 MB)\n",
            "\u001b[K     |████████████████████████████████| 5.7 MB 48.5 MB/s \n",
            "\u001b[?25hCollecting segregation>=2.3.1\n",
            "  Downloading segregation-2.3.1-py3-none-any.whl (147 kB)\n",
            "\u001b[K     |████████████████████████████████| 147 kB 42.4 MB/s \n",
            "\u001b[?25hCollecting pysal\n",
            "  Downloading pysal-2.6.0-py3-none-any.whl (17 kB)\n",
            "Collecting momepy>=0.5.2\n",
            "  Downloading momepy-0.5.4-py3-none-any.whl (243 kB)\n",
            "\u001b[K     |████████████████████████████████| 243 kB 46.0 MB/s \n",
            "\u001b[?25hCollecting spaghetti>=1.6.5\n",
            "  Downloading spaghetti-1.6.5-py3-none-any.whl (46 kB)\n",
            "\u001b[K     |████████████████████████████████| 46 kB 3.9 MB/s \n",
            "\u001b[?25hCollecting esda>=2.4.1\n",
            "  Downloading esda-2.4.3.tar.gz (116 kB)\n",
            "\u001b[K     |████████████████████████████████| 116 kB 41.9 MB/s \n",
            "\u001b[?25hCollecting giddy>=2.3.3\n",
            "  Downloading giddy-2.3.3-py3-none-any.whl (60 kB)\n",
            "\u001b[K     |████████████████████████████████| 60 kB 3.9 MB/s \n",
            "\u001b[?25hCollecting access>=1.1.3\n",
            "  Downloading access-1.1.8-py3-none-any.whl (21 kB)\n",
            "Collecting spglm>=1.0.8\n",
            "  Downloading spglm-1.0.8.tar.gz (37 kB)\n",
            "Collecting spreg>=1.2.4\n",
            "  Downloading spreg-1.3.0-py3-none-any.whl (220 kB)\n",
            "\u001b[K     |████████████████████████████████| 220 kB 44.4 MB/s \n",
            "\u001b[?25hCollecting spopt>=0.2.1\n",
            "  Downloading spopt-0.4.1-py3-none-any.whl (84 kB)\n",
            "\u001b[K     |████████████████████████████████| 84 kB 2.0 MB/s \n",
            "\u001b[?25hCollecting libpysal>=4.6.0\n",
            "  Downloading libpysal-4.6.2-py3-none-any.whl (2.4 MB)\n",
            "\u001b[K     |████████████████████████████████| 2.4 MB 41.6 MB/s \n",
            "\u001b[?25hCollecting inequality>=1.0.0\n",
            "  Downloading inequality-1.0.0.tar.gz (11 kB)\n",
            "Collecting tobler>=0.8.2\n",
            "  Downloading tobler-0.9.0-py3-none-any.whl (22 kB)\n",
            "Collecting mgwr>=2.1.2\n",
            "  Downloading mgwr-2.1.2.tar.gz (41 kB)\n",
            "\u001b[K     |████████████████████████████████| 41 kB 662 kB/s \n",
            "\u001b[?25hCollecting splot>=1.1.4\n",
            "  Downloading splot-1.1.5.post1-py3-none-any.whl (39 kB)\n",
            "Collecting spint>=1.0.7\n",
            "  Downloading spint-1.0.7.tar.gz (28 kB)\n",
            "Requirement already satisfied: pandas>=0.23.4 in /usr/local/lib/python3.7/dist-packages (from access>=1.1.3->pysal) (1.3.5)\n",
            "Collecting geopandas\n",
            "  Downloading geopandas-0.10.2-py2.py3-none-any.whl (1.0 MB)\n",
            "\u001b[K     |████████████████████████████████| 1.0 MB 14.0 MB/s \n",
            "\u001b[?25hRequirement already satisfied: requests>=2 in /usr/local/lib/python3.7/dist-packages (from access>=1.1.3->pysal) (2.23.0)\n",
            "Requirement already satisfied: numpy>=1.3 in /usr/local/lib/python3.7/dist-packages (from access>=1.1.3->pysal) (1.21.6)\n",
            "Requirement already satisfied: scipy>=0.11 in /usr/local/lib/python3.7/dist-packages (from esda>=2.4.1->pysal) (1.7.3)\n",
            "Requirement already satisfied: scikit-learn in /usr/local/lib/python3.7/dist-packages (from esda>=2.4.1->pysal) (1.0.2)\n",
            "Collecting quantecon>=0.4.7\n",
            "  Downloading quantecon-0.5.3-py3-none-any.whl (179 kB)\n",
            "\u001b[K     |████████████████████████████████| 179 kB 19.7 MB/s \n",
            "\u001b[?25hRequirement already satisfied: beautifulsoup4 in /usr/local/lib/python3.7/dist-packages (from libpysal>=4.6.0->pysal) (4.6.3)\n",
            "Requirement already satisfied: jinja2 in /usr/local/lib/python3.7/dist-packages (from libpysal>=4.6.0->pysal) (2.11.3)\n",
            "Requirement already satisfied: appdirs in /usr/local/lib/python3.7/dist-packages (from libpysal>=4.6.0->pysal) (1.4.4)\n",
            "Requirement already satisfied: packaging in /usr/local/lib/python3.7/dist-packages (from libpysal>=4.6.0->pysal) (21.3)\n",
            "Requirement already satisfied: networkx in /usr/local/lib/python3.7/dist-packages (from mapclassify>=2.4.3->pysal) (2.6.3)\n",
            "Collecting pygeos\n",
            "  Downloading pygeos-0.13-cp37-cp37m-manylinux_2_17_x86_64.manylinux2014_x86_64.whl (2.1 MB)\n",
            "\u001b[K     |████████████████████████████████| 2.1 MB 20.0 MB/s \n",
            "\u001b[?25hRequirement already satisfied: tqdm>=4.27.0 in /usr/local/lib/python3.7/dist-packages (from momepy>=0.5.2->pysal) (4.64.1)\n",
            "Collecting fiona>=1.8\n",
            "  Downloading Fiona-1.8.22-cp37-cp37m-manylinux2014_x86_64.whl (16.7 MB)\n",
            "\u001b[K     |████████████████████████████████| 16.7 MB 359 kB/s \n",
            "\u001b[?25hCollecting pyproj>=2.2.0\n",
            "  Downloading pyproj-3.2.1-cp37-cp37m-manylinux2010_x86_64.whl (6.3 MB)\n",
            "\u001b[K     |████████████████████████████████| 6.3 MB 25.9 MB/s \n",
            "\u001b[?25hRequirement already satisfied: shapely>=1.6 in /usr/local/lib/python3.7/dist-packages (from geopandas->access>=1.1.3->pysal) (1.8.5.post1)\n",
            "Collecting cligj>=0.5\n",
            "  Downloading cligj-0.7.2-py3-none-any.whl (7.1 kB)\n",
            "Collecting click-plugins>=1.0\n",
            "  Downloading click_plugins-1.1.1-py2.py3-none-any.whl (7.5 kB)\n",
            "Requirement already satisfied: six>=1.7 in /usr/local/lib/python3.7/dist-packages (from fiona>=1.8->geopandas->access>=1.1.3->pysal) (1.15.0)\n",
            "Requirement already satisfied: setuptools in /usr/local/lib/python3.7/dist-packages (from fiona>=1.8->geopandas->access>=1.1.3->pysal) (57.4.0)\n",
            "Requirement already satisfied: attrs>=17 in /usr/local/lib/python3.7/dist-packages (from fiona>=1.8->geopandas->access>=1.1.3->pysal) (22.1.0)\n",
            "Collecting munch\n",
            "  Downloading munch-2.5.0-py2.py3-none-any.whl (10 kB)\n",
            "Requirement already satisfied: certifi in /usr/local/lib/python3.7/dist-packages (from fiona>=1.8->geopandas->access>=1.1.3->pysal) (2022.9.24)\n",
            "Requirement already satisfied: click>=4.0 in /usr/local/lib/python3.7/dist-packages (from fiona>=1.8->geopandas->access>=1.1.3->pysal) (7.1.2)\n",
            "Requirement already satisfied: pytz>=2017.3 in /usr/local/lib/python3.7/dist-packages (from pandas>=0.23.4->access>=1.1.3->pysal) (2022.6)\n",
            "Requirement already satisfied: python-dateutil>=2.7.3 in /usr/local/lib/python3.7/dist-packages (from pandas>=0.23.4->access>=1.1.3->pysal) (2.8.2)\n",
            "Requirement already satisfied: matplotlib in /usr/local/lib/python3.7/dist-packages (from pointpats>=2.2.0->pysal) (3.2.2)\n",
            "Requirement already satisfied: opencv-contrib-python>=4.2.0 in /usr/local/lib/python3.7/dist-packages (from pointpats>=2.2.0->pysal) (4.6.0.66)\n",
            "Requirement already satisfied: numba in /usr/local/lib/python3.7/dist-packages (from quantecon>=0.4.7->giddy>=2.3.3->pysal) (0.56.4)\n",
            "Requirement already satisfied: sympy in /usr/local/lib/python3.7/dist-packages (from quantecon>=0.4.7->giddy>=2.3.3->pysal) (1.7.1)\n",
            "Requirement already satisfied: idna<3,>=2.5 in /usr/local/lib/python3.7/dist-packages (from requests>=2->access>=1.1.3->pysal) (2.10)\n",
            "Requirement already satisfied: urllib3!=1.25.0,!=1.25.1,<1.26,>=1.21.1 in /usr/local/lib/python3.7/dist-packages (from requests>=2->access>=1.1.3->pysal) (1.24.3)\n",
            "Requirement already satisfied: chardet<4,>=3.0.2 in /usr/local/lib/python3.7/dist-packages (from requests>=2->access>=1.1.3->pysal) (3.0.4)\n",
            "Collecting rvlib>=0.0.5\n",
            "  Downloading rvlib-0.0.6.tar.gz (183 kB)\n",
            "\u001b[K     |████████████████████████████████| 183 kB 55.4 MB/s \n",
            "\u001b[?25hRequirement already satisfied: joblib in /usr/local/lib/python3.7/dist-packages (from segregation>=2.3.1->pysal) (1.2.0)\n",
            "Requirement already satisfied: pip in /usr/local/lib/python3.7/dist-packages (from segregation>=2.3.1->pysal) (21.1.3)\n",
            "Collecting quilt3\n",
            "  Downloading quilt3-5.0.0-py3-none-any.whl (78 kB)\n",
            "\u001b[K     |████████████████████████████████| 78 kB 7.6 MB/s \n",
            "\u001b[?25hCollecting deprecation\n",
            "  Downloading deprecation-2.1.0-py2.py3-none-any.whl (11 kB)\n",
            "Requirement already satisfied: seaborn in /usr/local/lib/python3.7/dist-packages (from segregation>=2.3.1->pysal) (0.11.2)\n",
            "Requirement already satisfied: cffi>=1.0.0 in /usr/local/lib/python3.7/dist-packages (from rvlib>=0.0.5->segregation>=2.3.1->pysal) (1.15.1)\n",
            "Requirement already satisfied: PyYAML in /usr/local/lib/python3.7/dist-packages (from rvlib>=0.0.5->segregation>=2.3.1->pysal) (6.0)\n",
            "Requirement already satisfied: pycparser in /usr/local/lib/python3.7/dist-packages (from cffi>=1.0.0->rvlib>=0.0.5->segregation>=2.3.1->pysal) (2.21)\n",
            "Requirement already satisfied: llvmlite<0.40,>=0.39.0dev0 in /usr/local/lib/python3.7/dist-packages (from numba->quantecon>=0.4.7->giddy>=2.3.3->pysal) (0.39.1)\n",
            "Requirement already satisfied: importlib-metadata in /usr/local/lib/python3.7/dist-packages (from numba->quantecon>=0.4.7->giddy>=2.3.3->pysal) (4.13.0)\n",
            "Requirement already satisfied: threadpoolctl>=2.0.0 in /usr/local/lib/python3.7/dist-packages (from scikit-learn->esda>=2.4.1->pysal) (3.1.0)\n",
            "Collecting rtree\n",
            "  Downloading Rtree-1.0.1-cp37-cp37m-manylinux_2_17_x86_64.manylinux2014_x86_64.whl (1.0 MB)\n",
            "\u001b[K     |████████████████████████████████| 1.0 MB 44.1 MB/s \n",
            "\u001b[?25hCollecting pulp\n",
            "  Downloading PuLP-2.7.0-py3-none-any.whl (14.3 MB)\n",
            "\u001b[K     |████████████████████████████████| 14.3 MB 37.9 MB/s \n",
            "\u001b[?25hCollecting rasterio\n",
            "  Downloading rasterio-1.2.10-cp37-cp37m-manylinux1_x86_64.whl (19.3 MB)\n",
            "\u001b[K     |████████████████████████████████| 19.3 MB 1.2 MB/s \n",
            "\u001b[?25hCollecting rasterstats\n",
            "  Downloading rasterstats-0.17.0-py3-none-any.whl (16 kB)\n",
            "Requirement already satisfied: statsmodels in /usr/local/lib/python3.7/dist-packages (from tobler>=0.8.2->pysal) (0.12.2)\n",
            "Requirement already satisfied: typing-extensions>=3.6.4 in /usr/local/lib/python3.7/dist-packages (from importlib-metadata->numba->quantecon>=0.4.7->giddy>=2.3.3->pysal) (4.1.1)\n",
            "Requirement already satisfied: zipp>=0.5 in /usr/local/lib/python3.7/dist-packages (from importlib-metadata->numba->quantecon>=0.4.7->giddy>=2.3.3->pysal) (3.10.0)\n",
            "Requirement already satisfied: MarkupSafe>=0.23 in /usr/local/lib/python3.7/dist-packages (from jinja2->libpysal>=4.6.0->pysal) (2.0.1)\n",
            "Requirement already satisfied: kiwisolver>=1.0.1 in /usr/local/lib/python3.7/dist-packages (from matplotlib->pointpats>=2.2.0->pysal) (1.4.4)\n",
            "Requirement already satisfied: cycler>=0.10 in /usr/local/lib/python3.7/dist-packages (from matplotlib->pointpats>=2.2.0->pysal) (0.11.0)\n",
            "Requirement already satisfied: pyparsing!=2.0.4,!=2.1.2,!=2.1.6,>=2.0.1 in /usr/local/lib/python3.7/dist-packages (from matplotlib->pointpats>=2.2.0->pysal) (3.0.9)\n",
            "Requirement already satisfied: tenacity>=5.1.1 in /usr/local/lib/python3.7/dist-packages (from quilt3->segregation>=2.3.1->pysal) (8.1.0)\n",
            "Collecting jsonlines==1.2.0\n",
            "  Downloading jsonlines-1.2.0-py2.py3-none-any.whl (7.6 kB)\n",
            "Requirement already satisfied: jsonschema<5,>=3 in /usr/local/lib/python3.7/dist-packages (from quilt3->segregation>=2.3.1->pysal) (4.3.3)\n",
            "Collecting aws-requests-auth>=0.4.2\n",
            "  Downloading aws_requests_auth-0.4.3-py2.py3-none-any.whl (6.8 kB)\n",
            "Collecting requests-futures==1.0.0\n",
            "  Downloading requests_futures-1.0.0-py2.py3-none-any.whl (7.4 kB)\n",
            "Collecting boto3>=1.10.0\n",
            "  Downloading boto3-1.26.8-py3-none-any.whl (132 kB)\n",
            "\u001b[K     |████████████████████████████████| 132 kB 58.7 MB/s \n",
            "\u001b[?25hCollecting botocore<1.30.0,>=1.29.8\n",
            "  Downloading botocore-1.29.8-py3-none-any.whl (9.9 MB)\n",
            "\u001b[K     |████████████████████████████████| 9.9 MB 43.5 MB/s \n",
            "\u001b[?25hCollecting s3transfer<0.7.0,>=0.6.0\n",
            "  Downloading s3transfer-0.6.0-py3-none-any.whl (79 kB)\n",
            "\u001b[K     |████████████████████████████████| 79 kB 8.4 MB/s \n",
            "\u001b[?25hCollecting jmespath<2.0.0,>=0.7.1\n",
            "  Downloading jmespath-1.0.1-py3-none-any.whl (20 kB)\n",
            "Collecting urllib3!=1.25.0,!=1.25.1,<1.26,>=1.21.1\n",
            "  Downloading urllib3-1.25.11-py2.py3-none-any.whl (127 kB)\n",
            "\u001b[K     |████████████████████████████████| 127 kB 46.5 MB/s \n",
            "\u001b[?25hRequirement already satisfied: importlib-resources>=1.4.0 in /usr/local/lib/python3.7/dist-packages (from jsonschema<5,>=3->quilt3->segregation>=2.3.1->pysal) (5.10.0)\n",
            "Requirement already satisfied: pyrsistent!=0.17.0,!=0.17.1,!=0.17.2,>=0.14.0 in /usr/local/lib/python3.7/dist-packages (from jsonschema<5,>=3->quilt3->segregation>=2.3.1->pysal) (0.19.2)\n",
            "Collecting affine\n",
            "  Downloading affine-2.3.1-py2.py3-none-any.whl (16 kB)\n",
            "Collecting snuggs>=1.4.1\n",
            "  Downloading snuggs-1.4.7-py3-none-any.whl (5.4 kB)\n",
            "Collecting simplejson\n",
            "  Downloading simplejson-3.17.6-cp37-cp37m-manylinux_2_5_x86_64.manylinux1_x86_64.manylinux_2_12_x86_64.manylinux2010_x86_64.whl (130 kB)\n",
            "\u001b[K     |████████████████████████████████| 130 kB 59.9 MB/s \n",
            "\u001b[?25hRequirement already satisfied: patsy>=0.5 in /usr/local/lib/python3.7/dist-packages (from statsmodels->tobler>=0.8.2->pysal) (0.5.3)\n",
            "Requirement already satisfied: mpmath>=0.19 in /usr/local/lib/python3.7/dist-packages (from sympy->quantecon>=0.4.7->giddy>=2.3.3->pysal) (1.2.1)\n",
            "Building wheels for collected packages: esda, inequality, mgwr, pointpats, rvlib, spglm, spint, spvcm\n",
            "  Building wheel for esda (setup.py) ... \u001b[?25l\u001b[?25hdone\n",
            "  Created wheel for esda: filename=esda-2.4.3-py3-none-any.whl size=122782 sha256=f15e33350b09b6c1dd206bbf985dce278b6bf4ae121e10727948de8c0ce83926\n",
            "  Stored in directory: /root/.cache/pip/wheels/37/07/2e/2aa4874ca25fa442a3912c74e53780da19d25ec1d58bac5d30\n",
            "  Building wheel for inequality (setup.py) ... \u001b[?25l\u001b[?25hdone\n",
            "  Created wheel for inequality: filename=inequality-1.0.0-py3-none-any.whl size=11800 sha256=b80e2eabd5f10124f3df6dbe875025732a8d6de9ca3cdc0919baa9da270e6095\n",
            "  Stored in directory: /root/.cache/pip/wheels/a8/81/7a/af8b9e8ea0b034ac1bdd9d68f3a8ceac179eb5418cdb83c851\n",
            "  Building wheel for mgwr (setup.py) ... \u001b[?25l\u001b[?25hdone\n",
            "  Created wheel for mgwr: filename=mgwr-2.1.2-py3-none-any.whl size=46384 sha256=252fe4824831cd8b7f2e14b20dea93ce80bdb50e1a973dba4b7866f56faeec15\n",
            "  Stored in directory: /root/.cache/pip/wheels/e8/55/57/c1bf993ab0ab4b9885ac1fdf7f9f960397355cf889b77a3e4b\n",
            "  Building wheel for pointpats (setup.py) ... \u001b[?25l\u001b[?25hdone\n",
            "  Created wheel for pointpats: filename=pointpats-2.2.0-py3-none-any.whl size=60837 sha256=89035428ae93a21f12378a9d78589fb0e8ac97746910663c5e515b348f2e2659\n",
            "  Stored in directory: /root/.cache/pip/wheels/41/5f/91/08cc68af630fafdc6bed36128abf8e716e062256a8495fdb2d\n",
            "  Building wheel for rvlib (setup.py) ... \u001b[?25l\u001b[?25hdone\n",
            "  Created wheel for rvlib: filename=rvlib-0.0.6-cp37-cp37m-linux_x86_64.whl size=351602 sha256=67e29005d0658def3c83de740cf6ec79f7fb3218eacbc03e802d392a621ee811\n",
            "  Stored in directory: /root/.cache/pip/wheels/8e/fe/cb/66b78310be88014dfbe1a21391c873a9fe49dca403f7d9f454\n",
            "  Building wheel for spglm (setup.py) ... \u001b[?25l\u001b[?25hdone\n",
            "  Created wheel for spglm: filename=spglm-1.0.8-py3-none-any.whl size=38805 sha256=a9865f66fcb9c7a6a38b765567c8f8f126cdcf136c66dab9c47c52826d3939a5\n",
            "  Stored in directory: /root/.cache/pip/wheels/29/79/e9/453e3b0d858bed16e097c6e6bbd75e2b966bfcfb21b12790d0\n",
            "  Building wheel for spint (setup.py) ... \u001b[?25l\u001b[?25hdone\n",
            "  Created wheel for spint: filename=spint-1.0.7-py3-none-any.whl size=31383 sha256=63e9b6216b7e2407067501c93a8b53204558f968a8d4e70c71a525306766c05d\n",
            "  Stored in directory: /root/.cache/pip/wheels/dd/ac/5d/25d69231f3bffa2cb47ce29bb7eac9df9246aa9ba286a03a2d\n",
            "  Building wheel for spvcm (setup.py) ... \u001b[?25l\u001b[?25hdone\n",
            "  Created wheel for spvcm: filename=spvcm-0.3.0-py3-none-any.whl size=5777202 sha256=5f3837722f41c1f2845fa57d0b34b56a4a0b2ccee6911b0a7751211b1015f8b8\n",
            "  Stored in directory: /root/.cache/pip/wheels/a4/85/1a/d890ef4d2eaca2788e45925fa531bb58a2138734065abdfe08\n",
            "Successfully built esda inequality mgwr pointpats rvlib spglm spint spvcm\n",
            "Installing collected packages: urllib3, jmespath, botocore, snuggs, s3transfer, munch, libpysal, cligj, click-plugins, affine, spreg, simplejson, rtree, requests-futures, rasterio, quantecon, pyproj, mapclassify, jsonlines, fiona, esda, boto3, aws-requests-auth, spglm, spaghetti, rvlib, rasterstats, quilt3, pygeos, pulp, giddy, geopandas, deprecation, tobler, spvcm, spopt, splot, spint, segregation, pointpats, momepy, mgwr, inequality, access, pysal\n",
            "  Attempting uninstall: urllib3\n",
            "    Found existing installation: urllib3 1.24.3\n",
            "    Uninstalling urllib3-1.24.3:\n",
            "      Successfully uninstalled urllib3-1.24.3\n",
            "Successfully installed access-1.1.8 affine-2.3.1 aws-requests-auth-0.4.3 boto3-1.26.8 botocore-1.29.8 click-plugins-1.1.1 cligj-0.7.2 deprecation-2.1.0 esda-2.4.3 fiona-1.8.22 geopandas-0.10.2 giddy-2.3.3 inequality-1.0.0 jmespath-1.0.1 jsonlines-1.2.0 libpysal-4.6.2 mapclassify-2.4.3 mgwr-2.1.2 momepy-0.5.4 munch-2.5.0 pointpats-2.2.0 pulp-2.7.0 pygeos-0.13 pyproj-3.2.1 pysal-2.6.0 quantecon-0.5.3 quilt3-5.0.0 rasterio-1.2.10 rasterstats-0.17.0 requests-futures-1.0.0 rtree-1.0.1 rvlib-0.0.6 s3transfer-0.6.0 segregation-2.3.1 simplejson-3.17.6 snuggs-1.4.7 spaghetti-1.6.5 spglm-1.0.8 spint-1.0.7 splot-1.1.5.post1 spopt-0.4.1 spreg-1.3.0 spvcm-0.3.0 tobler-0.9.0 urllib3-1.25.11\n"
          ]
        }
      ]
    },
    {
      "cell_type": "code",
      "execution_count": null,
      "metadata": {
        "id": "xuXgqnVxA_hS",
        "colab": {
          "base_uri": "https://localhost:8080/"
        },
        "outputId": "fd3b5e92-8ea8-4020-f2db-d85fccffcb7b"
      },
      "outputs": [
        {
          "output_type": "stream",
          "name": "stderr",
          "text": [
            "/usr/local/lib/python3.7/dist-packages/spaghetti/network.py:36: FutureWarning: The next major release of pysal/spaghetti (2.0.0) will drop support for all ``libpysal.cg`` geometries. This change is a first step in refactoring ``spaghetti`` that is expected to result in dramatically reduced runtimes for network instantiation and operations. Users currently requiring network and point pattern input as ``libpysal.cg`` geometries should prepare for this simply by converting to ``shapely`` geometries.\n",
            "  warnings.warn(f\"{dep_msg}\", FutureWarning)\n"
          ]
        }
      ],
      "source": [
        "from pysal.model import spreg\n",
        "from pysal.lib import weights\n",
        "from pysal.explore import esda"
      ]
    },
    {
      "cell_type": "code",
      "source": [],
      "metadata": {
        "id": "HCtZGbHTcPLw"
      },
      "execution_count": null,
      "outputs": []
    }
  ],
  "metadata": {
    "colab": {
      "provenance": [],
      "include_colab_link": true
    },
    "kernelspec": {
      "display_name": "Python 3",
      "name": "python3"
    },
    "language_info": {
      "name": "python"
    }
  },
  "nbformat": 4,
  "nbformat_minor": 0
}
